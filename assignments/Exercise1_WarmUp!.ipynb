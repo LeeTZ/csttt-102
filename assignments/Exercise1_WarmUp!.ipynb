{
 "cells": [
  {
   "metadata": {},
   "cell_type": "markdown",
   "source": "## Exercise 1 : Warm Up! (100 points)\n\n### by Liahnov Techensky\n\n#### In this exercise, you will be working on filling in the missing statement in a program. \n\nThe program should work exactly as described in the problem statement. So probably you will need to make up more *test cases* by yourself.\n\nNote that you are **NOT ALLOWED** to modify the program except the '....' part. You cannot delete or add new lines or code. If you cannot achieve that, implement the function with your thoughts in a new cell below. And you will receive half of the points for that problem if your program works correctly."
  },
  {
   "metadata": {
    "trusted": true,
    "collapsed": true
   },
   "cell_type": "code",
   "source": "# all imports goes here",
   "execution_count": null,
   "outputs": []
  },
  {
   "metadata": {},
   "cell_type": "markdown",
   "source": "### 1. Sorting is simple!\n\nWrite a function that, given an array of integers *arr*, sorts its elements in ascending order.\n\n**Example**\n\nFor *arr* = [2, 4, 1, 5], the output should be\nsimpleSort(arr) = [1, 2, 4, 5].\n\n**Input/Output**\n\n[input] a list of integer: arr\n\n1 ≤ len(arr) ≤ 100,\n-105 ≤ arr[i] ≤ 105.\n\n[output] a list of integer\n\nThe given array with elements sorted in ascending order."
  },
  {
   "metadata": {
    "trusted": true
   },
   "cell_type": "code",
   "source": "def simpleSort(arr):\n    n = len(arr)\n    for i in range(n):\n        j = 0\n        stop = n - i\n        while j < stop - 1:\n            if arr[j] > arr[j + 1]:\n                .... = ....\n            j += 1\n    return arr",
   "execution_count": null,
   "outputs": []
  },
  {
   "metadata": {
    "trusted": true,
    "collapsed": true
   },
   "cell_type": "code",
   "source": "# write your solution here if you do not know how to fill in the \"....\"",
   "execution_count": null,
   "outputs": []
  },
  {
   "metadata": {},
   "cell_type": "markdown",
   "source": "### 2. Base is Under Attack!\n\nImplement a function that, given an integer number *n* and a base *x*, converts *n* from base *x* to base 16.\n\n**Example**\n\nFor *n* = \"1302\" and x = 5, the output should be\nbaseConvertion(n, x) = \"ca\".\n\nHere's why:\n1302<sub>5</sub> = 202<sub>10</sub> = ca<sub>16</sub>.\n\n**Input/Output**\n\n[input] string *n*\n\nA valid non-negative integer in base *x*. The string is guaranteed to consist of digits and lowercase English letters. 1 < n.length ≤ 10.\n\n[input] integer *x*\n\nThe base of *n*. 2 ≤ x ≤ 36.\n\n[output] a string\n\nThe value of *n* in base 16. The string should contain only digits and lowercase English letters 'a' - 'f'."
  },
  {
   "metadata": {
    "trusted": true,
    "collapsed": true
   },
   "cell_type": "code",
   "source": "def baseConversion(n, x):\n    return ....",
   "execution_count": null,
   "outputs": []
  },
  {
   "metadata": {
    "trusted": true,
    "collapsed": true
   },
   "cell_type": "code",
   "source": "# write your solution here if you do not know how to fill in the \"....\"",
   "execution_count": null,
   "outputs": []
  },
  {
   "metadata": {},
   "cell_type": "markdown",
   "source": "### 3. I want Bitcoins more than Bits!\n\nImplement a function that, given an integer *n*, returns the number of bits in its binary representation.\n\n**Example**\n\nFor *n* = 50, the output should be\ncountBits(n) = 6.\n\n50<sub>10</sub> = 110010<sub>2</sub>, a number that consists of 6 digits. Thus, the output should be 6.\n\n**Input/Output**\n\n[input] integer *n*\n\nA positive integer. 1 ≤ n ≤ 109.\n\n[output] integer\n\nThe number of bits in binary representation of *n*."
  },
  {
   "metadata": {
    "trusted": true,
    "collapsed": true
   },
   "cell_type": "code",
   "source": "def countBits(n):\n    return n....",
   "execution_count": null,
   "outputs": []
  },
  {
   "metadata": {
    "trusted": true,
    "collapsed": true
   },
   "cell_type": "code",
   "source": "# write your solution here if you do not know how to fill in the \"....\"",
   "execution_count": null,
   "outputs": []
  },
  {
   "metadata": {},
   "cell_type": "markdown",
   "source": "### 4. Python List Beautifier\n\nLet's call a list **beautiful** if its first element is equal to its last element, or if a list is empty. Given a list *a*, your task is to chop off its first and its last element until it becomes beautiful. Implement a function that will make the given a beautiful as described, and return the resulting list as an answer.\n\nHint: extended unpacking could help here.\n\n**Example**\n\nFor *a* = [3, 4, 2, 4, 38, 4, 5, 3, 2], the output should be\nlistBeautifier(a) = [4, 38, 4].\n\nHere's how the answer is obtained:\n[3, 4, 2, 4, 38, 4, 5, 3, 2] => [4, 2, 4, 38, 4, 5, 3] => [2, 4, 38, 4, 5] => [4, 38, 4].\n\nFor *a* = [1, 4, -5], the output should be\nlistBeautifier(a) = [4].\n\n**Input/Output**\n\n[input] a list of integer *a*\n\n0 ≤ len(a) ≤ 50,\n1 ≤ a[i] ≤ 100.\n\n[output] a list of integer\n\nA beautiful list obtained as described above."
  },
  {
   "metadata": {
    "trusted": true,
    "collapsed": true
   },
   "cell_type": "code",
   "source": "def listBeautifier(a):\n    res = a[:]\n    while res and res[0] != res[-1]:\n        .... = res\n    return res",
   "execution_count": null,
   "outputs": []
  },
  {
   "metadata": {
    "trusted": true,
    "collapsed": true
   },
   "cell_type": "code",
   "source": "# write your solution here if you do not know how to fill in the \"....\"",
   "execution_count": null,
   "outputs": []
  },
  {
   "metadata": {},
   "cell_type": "markdown",
   "source": "### 5. You must indent with SPACE\n\nYou found an awesome customizable Python IDE. However, after a couple days of coding you discover that there is one important feature that this IDE lacks: it cannot convert tabs to spaces.So you decide to write a plugin that would convert all tabs in the code into the given number of whitespace characters.\n\nImplement a function that, given a piece of code and a positive integer *x* will turn each tabulation character (\\t) in code into *x* whitespace characters.\n\n**Example**\n\nFor code = \"\\treturn False\" and x = 4, the output should be\nconvertTabs(code, x) = \"    return False\".\n\n**Input/Output**\n\n[input] string *code*\n\n0 ≤ len(code) ≤ 1500.\n\n[input] integer *x*\n\nThe number of whitespace characters (' ') that should replace each occurrence of the tab character ('\\t').\n\n1 ≤ x ≤ 16.\n\n[output] string\n\nThe given code with tabulation characters expanded according to *x*."
  },
  {
   "metadata": {
    "trusted": true,
    "collapsed": true
   },
   "cell_type": "code",
   "source": "def convertTabs(code, x):\n    return ....",
   "execution_count": null,
   "outputs": []
  },
  {
   "metadata": {
    "trusted": true,
    "collapsed": true
   },
   "cell_type": "code",
   "source": "# write your solution here if you do not know how to fill in the \"....\"",
   "execution_count": null,
   "outputs": []
  },
  {
   "metadata": {
    "trusted": true,
    "collapsed": true
   },
   "cell_type": "code",
   "source": "# Feedback goes here, feel free to comment on anything.",
   "execution_count": null,
   "outputs": []
  }
 ],
 "metadata": {
  "kernelspec": {
   "name": "python3",
   "display_name": "Python 3",
   "language": "python"
  },
  "language_info": {
   "file_extension": ".py",
   "codemirror_mode": {
    "version": 3,
    "name": "ipython"
   },
   "version": "3.5.3",
   "nbconvert_exporter": "python",
   "pygments_lexer": "ipython3",
   "mimetype": "text/x-python",
   "name": "python"
  }
 },
 "nbformat": 4,
 "nbformat_minor": 2
}