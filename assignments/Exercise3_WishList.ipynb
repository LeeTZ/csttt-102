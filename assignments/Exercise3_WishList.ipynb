{
 "cells": [
  {
   "cell_type": "markdown",
   "metadata": {
    "collapsed": true
   },
   "source": [
    "## Exercise 3:  Wish List (100 points)\n",
    "\n",
    "### by Liahnov Techensky\n",
    "\n",
    "#### In the following problems, you will be working on filling in the missing statement in a program. \n",
    "\n",
    "The program should work exactly as described in the problem statement. So probably you will need to make up more *test cases* by yourself.\n",
    "\n",
    "Note that you are **NOT ALLOWED** to modify the program except the '....' part. You cannot delete or add new lines or code. If you cannot achieve that, implement the function with your thoughts in a new cell below. And you will receive half of the points for that problem if your program works correctly."
   ]
  },
  {
   "cell_type": "code",
   "execution_count": null,
   "metadata": {
    "collapsed": true
   },
   "outputs": [],
   "source": [
    "# put all imports here"
   ]
  },
  {
   "cell_type": "markdown",
   "metadata": {},
   "source": [
    "### 1.  Snail in a Well\n",
    "\n",
    "I believe that you know the “snail in a well” problem. It's just like study, no advance means **falling back**. Given a list of numbers *snail*. Your task is to calculate the difference between the sum of numbers in even positions (0-based), and the sum of numbers in odd positions.\n",
    "\n",
    "**Example**\n",
    "\n",
    "For snail = [1, 11, 13, 6, 14], the output should be\n",
    "calcHeight(snail) = (1 + 13 + 14) - (11 + 6) = 11.\n",
    "\n",
    "**Input/Output**\n",
    "\n",
    "[input] a list of integer *snail*\n",
    "\n",
    "[output] integer"
   ]
  },
  {
   "cell_type": "code",
   "execution_count": null,
   "metadata": {
    "collapsed": true
   },
   "outputs": [],
   "source": [
    "def calcHeight(snails):\n",
    "    return ...."
   ]
  },
  {
   "cell_type": "code",
   "execution_count": null,
   "metadata": {
    "collapsed": true
   },
   "outputs": [],
   "source": [
    "# write your solution here if you do not know how to fill in the \"....\""
   ]
  },
  {
   "cell_type": "markdown",
   "metadata": {
    "collapsed": true
   },
   "source": [
    "### 2. Drop Homework Problems\n",
    "\n",
    "Today you have to video chat with your mom to celebrate your *k<sup>th</sup>* birthday. So you decided to remove each *k<sup>th</sup>* problem from your homework problem list, since today is your day and you can do whatever you please.\n",
    "\n",
    "Given the list of problem ids in your *toDo* list, remove each *k<sup>th</sup>* problem from it and return the list of remaining problems.\n",
    "\n",
    "**Example**\n",
    "\n",
    "For *k* = 3 and *toDo* = [1237, 2847, 27485, 2947, 1, 247, 374827, 22],\n",
    "the output should be\n",
    "\n",
    "\n",
    "dropProblem(k, toDo) = [1237, 2847, 2947, 1, 374827, 22].\n",
    "\n",
    "**Input/Output**\n",
    "\n",
    "[input] integer *k*, 1 ≤ *k* ≤ 30.\n",
    "\n",
    "[input] list of integer *toDo*\n",
    "\n",
    "Ids of the problems in your homework list.\n",
    "\n",
    "[output] a list of integer"
   ]
  },
  {
   "cell_type": "code",
   "execution_count": null,
   "metadata": {
    "collapsed": true
   },
   "outputs": [],
   "source": [
    "def removeTasks(k, toDo):\n",
    "    del ....\n",
    "    return toDo"
   ]
  },
  {
   "cell_type": "code",
   "execution_count": null,
   "metadata": {
    "collapsed": true
   },
   "outputs": [],
   "source": [
    "# write your solution here if you do not know how to fill in the \"....\""
   ]
  },
  {
   "cell_type": "markdown",
   "metadata": {
    "collapsed": true
   },
   "source": [
    "### 3. The Matrix Spiral\n",
    "\n",
    "The fourth episode of the Matrix Series, The Marix Spiral, is in theatre now. A spiral matrix is a square matrix of size *n × n*. It contains all the integers in range from 1 to *n × n* so that number 1 is written in the bottom right corner, and all other numbers are written in increasing order spirally in the counterclockwise direction.\n",
    "\n",
    "Given the size of the matrix *n*, your task is to create a spiral matrix.\n",
    "\n",
    "**Example**\n",
    "\n",
    "For *n* = 3, the output should be\n",
    "\n",
    "createSM(n) = [[5, 4, 3],\n",
    "                         [6, 9, 2],\n",
    "                         [7, 8, 1]]\n",
    "                         \n",
    "**Input/Output**\n",
    "\n",
    "[input] integer *n*, 3 ≤ n ≤ 10.\n",
    "\n",
    "[output] list of list of integer\n",
    "\n",
    "A spiral matrix of size *n*."
   ]
  },
  {
   "cell_type": "code",
   "execution_count": 1,
   "metadata": {
    "collapsed": true
   },
   "outputs": [],
   "source": [
    "def createSM(n):\n",
    "    dirs = ....\n",
    "    curDir = ....\n",
    "    curPos = ....\n",
    "    res = ....\n",
    "\n",
    "    for i in range(1, n * n + 1):\n",
    "        res[curPos[0]][curPos[1]] = i\n",
    "        nextPos = curPos[0] + dirs[curDir][0], curPos[1] + dirs[curDir][1]\n",
    "        if not (0 <= nextPos[0] < n and\n",
    "                0 <= nextPos[1] < n and\n",
    "                res[nextPos[0]][nextPos[1]] == 0):\n",
    "            curDir = (curDir + 1) % 4\n",
    "            nextPos = curPos[0] + dirs[curDir][0], curPos[1] + dirs[curDir][1]\n",
    "        curPos = nextPos\n",
    "\n",
    "    return res"
   ]
  },
  {
   "cell_type": "code",
   "execution_count": null,
   "metadata": {
    "collapsed": true
   },
   "outputs": [],
   "source": [
    "# write your solution here if you do not know how to fill in the \"....\""
   ]
  },
  {
   "cell_type": "markdown",
   "metadata": {},
   "source": [
    "### 4. Words' Power\n",
    "\n",
    "You've heard somewhere that a word is more powerful than an action. You decided to put this statement at a test by assigning a *power* value to each action and each *word*. To begin somewhere, you defined a power of a word as the sum of powers of its characters, where power of a character is equal to its 1-based index in the plaintext alphabet.\n",
    "\n",
    "Given a *word*, calculate its *power*.\n",
    "\n",
    "**Example**\n",
    "\n",
    "For word = \"hello\", the output should be\n",
    "wordPower(word) = 52.\n",
    "\n",
    "Letters 'h', 'e', 'l' and 'o' have powers 8, 5, 12 and 15, respectively. Thus, the total power of the word is 8 + 5 + 12 + 12 + 15 = 52.\n",
    "\n",
    "**Input/Output**\n",
    "\n",
    "[input] string *word*\n",
    "\n",
    "A string consisting of lowercase English letters.\n",
    "\n",
    "[output] integer\n",
    "\n",
    "Power of the given word."
   ]
  },
  {
   "cell_type": "code",
   "execution_count": null,
   "metadata": {
    "collapsed": true
   },
   "outputs": [],
   "source": [
    "def wordPower(word):\n",
    "    num = ....\n",
    "    return sum([num[ch] for ch in word])\n"
   ]
  },
  {
   "cell_type": "code",
   "execution_count": null,
   "metadata": {
    "collapsed": true
   },
   "outputs": [],
   "source": [
    "# write your solution here if you do not know how to fill in the \"....\""
   ]
  },
  {
   "cell_type": "markdown",
   "metadata": {},
   "source": [
    "### 5. T Pair\n",
    "\n",
    "A pair of numbers is considered to be a T pair if their product is divisible by their sum. More formally, a pair *(i, j)* is a T pair if and only if _(i * j) % (i + j) = 0_.\n",
    "\n",
    "Given two lists *a* and *b*, find T pairs with the first number in the pair from *a*, and the second one from *b*. Return the number of different sums of elements in such pairs.\n",
    "\n",
    "**Example**\n",
    "\n",
    "For a = [4, 5, 6, 7, 8] and b = [8, 9, 10, 11, 12],\n",
    "the output should be\n",
    "tPairs(a, b) = 2.\n",
    "\n",
    "There are three T pairs that can be formed from these arrays: (4, 12), (6, 12) and (8, 8). Their respective sums are 16, 18 and 16, which means that there are just 2 different sums: 16 and 18. Thus, the output should be equal to 2.\n",
    "\n",
    "**Input/Output**\n",
    "\n",
    "[input] list of integer a, b.\n",
    "\n",
    "lists of distinct elements.\n",
    "\n",
    "[output] integer\n",
    "\n",
    "The number of different sums of elements in T pairs formed by elements from *a* and *b*."
   ]
  },
  {
   "cell_type": "code",
   "execution_count": null,
   "metadata": {
    "collapsed": true
   },
   "outputs": [],
   "source": [
    "def tPairs(a, b):\n",
    "    uniqueSums = {....}\n",
    "    return len(uniqueSums)\n"
   ]
  },
  {
   "cell_type": "code",
   "execution_count": null,
   "metadata": {
    "collapsed": true
   },
   "outputs": [],
   "source": [
    "# write your solution here if you do not know how to fill in the \"....\""
   ]
  },
  {
   "cell_type": "markdown",
   "metadata": {},
   "source": [
    "### 6. Insane List\n",
    "\n",
    "The instructor is still working on Exercise 3 on 1 am. He is tired so he dicided to make an insane problem. He wants a size _2 * n - 1_ list with 0s inside.\n",
    "\n",
    "**Example**\n",
    "\n",
    "For n = 3, the output should be\n",
    "\n",
    "insaneList(n) = [[0],\n",
    "                     [0, 0],\n",
    "                     [0, 0, 0],\n",
    "                     [0, 0],\n",
    "                     [0]]\n",
    "\n",
    "**Input/Output**\n",
    "\n",
    "[input] integer *n*\n",
    "\n",
    "An integer defining the size.\n",
    "\n",
    "[output] list of list of integer\n",
    "\n",
    "An insane list."
   ]
  },
  {
   "cell_type": "code",
   "execution_count": null,
   "metadata": {
    "collapsed": true
   },
   "outputs": [],
   "source": [
    "def insaneList(n):\n",
    "    return ...."
   ]
  },
  {
   "cell_type": "code",
   "execution_count": null,
   "metadata": {
    "collapsed": true
   },
   "outputs": [],
   "source": [
    "# write your solution here if you do not know how to fill in the \"....\""
   ]
  },
  {
   "cell_type": "markdown",
   "metadata": {},
   "source": [
    "## Problem Solving Exercise\n",
    "\n",
    "please hand in any 6 problems from Hackerrank's implementation category, page 3 https://www.hackerrank.com/domains/algorithms/implementation/3\n"
   ]
  },
  {
   "cell_type": "code",
   "execution_count": null,
   "metadata": {
    "collapsed": true
   },
   "outputs": [],
   "source": [
    "#1"
   ]
  },
  {
   "cell_type": "code",
   "execution_count": null,
   "metadata": {
    "collapsed": true
   },
   "outputs": [],
   "source": [
    "#2"
   ]
  },
  {
   "cell_type": "code",
   "execution_count": null,
   "metadata": {
    "collapsed": true
   },
   "outputs": [],
   "source": [
    "#3"
   ]
  },
  {
   "cell_type": "code",
   "execution_count": null,
   "metadata": {
    "collapsed": true
   },
   "outputs": [],
   "source": [
    "#4"
   ]
  },
  {
   "cell_type": "code",
   "execution_count": null,
   "metadata": {
    "collapsed": true
   },
   "outputs": [],
   "source": [
    "#5"
   ]
  },
  {
   "cell_type": "code",
   "execution_count": null,
   "metadata": {
    "collapsed": true
   },
   "outputs": [],
   "source": [
    "#6"
   ]
  },
  {
   "cell_type": "code",
   "execution_count": null,
   "metadata": {
    "collapsed": true
   },
   "outputs": [],
   "source": [
    "# Feedback goes here, feel free to comment on anything."
   ]
  }
 ],
 "metadata": {
  "kernelspec": {
   "display_name": "Python 3",
   "language": "python",
   "name": "python3"
  },
  "language_info": {
   "codemirror_mode": {
    "name": "ipython",
    "version": 3
   },
   "file_extension": ".py",
   "mimetype": "text/x-python",
   "name": "python",
   "nbconvert_exporter": "python",
   "pygments_lexer": "ipython3",
   "version": "3.5.4"
  }
 },
 "nbformat": 4,
 "nbformat_minor": 2
}
