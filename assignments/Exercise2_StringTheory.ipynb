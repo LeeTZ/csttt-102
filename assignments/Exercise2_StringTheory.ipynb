{
 "cells": [
  {
   "cell_type": "markdown",
   "metadata": {},
   "source": [
    "## Exercise 2:  String Theory (100 points)\n",
    "\n",
    "### by Liahnov Techensky\n",
    "\n",
    "#### In the following problems, you will be working on filling in the missing statement in a program. \n",
    "\n",
    "The program should work exactly as described in the problem statement. So probably you will need to make up more *test cases* by yourself.\n",
    "\n",
    "Note that you are **NOT ALLOWED** to modify the program except the '....' part. You cannot delete or add new lines or code. If you cannot achieve that, implement the function with your thoughts in a new cell below. And you will receive half of the points for that problem if your program works correctly."
   ]
  },
  {
   "cell_type": "code",
   "execution_count": null,
   "metadata": {
    "collapsed": true
   },
   "outputs": [],
   "source": [
    "# all imports goes here"
   ]
  },
  {
   "cell_type": "markdown",
   "metadata": {},
   "source": [
    "### 1.  Microsoft word autocorrect\n",
    "\n",
    "Implement a function that will change the very first symbol of the given string to uppercase, and make all the other letters lowercase.\n",
    "\n",
    "**Example**\n",
    "\n",
    "For msg = \"you'll NEVER believe what that 'FrIeNd' of mine did!!1\",\n",
    "the output should be\n",
    "autoCorrect(msg) = \"You'll never believe what that 'friend' of mine did!!1\".\n",
    "\n",
    "**Input/Output**\n",
    "\n",
    "[input] string\n",
    "\n",
    "A string consisting of Latin letters, whitespace characters, digits and punctuation marks. 1 ≤ message.length ≤ 65.\n",
    "\n",
    "[output] string\n",
    "\n",
    "Fixed message with its first letter capitalized, and all other letters converted to lowercase."
   ]
  },
  {
   "cell_type": "code",
   "execution_count": null,
   "metadata": {
    "collapsed": true
   },
   "outputs": [],
   "source": [
    "def autoCorrect(msg):\n",
    "    return msg....\n"
   ]
  },
  {
   "cell_type": "code",
   "execution_count": null,
   "metadata": {
    "collapsed": true
   },
   "outputs": [],
   "source": [
    "# write your solution here if you do not know how to fill in the \"....\""
   ]
  },
  {
   "cell_type": "markdown",
   "metadata": {},
   "source": [
    "### 2.  Microsoft word line breaker\n",
    "\n",
    "Implement a function that, given a *string* and the *size* of the screen, splits the string into lines so that:\n",
    "\n",
    "* each token (i.e. sequence of non-whitespace characters) belongs to one of the lines entirely;\n",
    "* each line is at most *size* characters long;\n",
    "* no line has trailing or leading spaces;\n",
    "* each line should have the maximum possible length, assuming that all lines before it were also the longest possible.\n",
    "\n",
    "**Example**\n",
    "\n",
    "For *string* = \"This is an example string\", and *size* = 8,\n",
    "the output should be\n",
    "\n",
    "lineBreak(string, size) = [\"This is\", \n",
    "                                  \"an\", \n",
    "                                  \"example\", \n",
    "                                  \"string\"]\n",
    "\n",
    "**Input/Output**\n",
    "\n",
    "[input] string \n",
    "\n",
    "A string guaranteed to contain only letters, punctuation marks and whitespace characters (' ').\n",
    "\n",
    "[input] integer *size*\n",
    "\n",
    "The size of the screen. It is guaranteed that it is not smaller than the longest token in the *string*.\n",
    "\n",
    "[output] list of string\n",
    "\n",
    "Lines from the string, split as described above."
   ]
  },
  {
   "cell_type": "code",
   "execution_count": null,
   "metadata": {
    "collapsed": true
   },
   "outputs": [],
   "source": [
    "def lineBreak(string, size):\n",
    "    return ....\n"
   ]
  },
  {
   "cell_type": "code",
   "execution_count": null,
   "metadata": {
    "collapsed": true
   },
   "outputs": [],
   "source": [
    "# write your solution here if you do not know how to fill in the \"....\""
   ]
  },
  {
   "cell_type": "markdown",
   "metadata": {},
   "source": [
    "### 3. Microsoft word palindrome detector\n",
    "\n",
    "Given a *word*, check whether it is a palindrome or not. A string is considered to be a palindrome if it reads the same in both directions.\n",
    "\n",
    "**Example**\n",
    "\n",
    "For word = \"aibohphobia\", the output should be\n",
    "isWordPalindrome(word) = True;\n",
    "\n",
    "For word = \"hehehehehe\", the output should be\n",
    "isWordPalindrome(word) = False.\n",
    "\n",
    "**Input/Output**\n",
    "\n",
    "[input] string *word*\n",
    "\n",
    "A string containing lowercase English letters.\n",
    "\n",
    "[output] boolean\n",
    "\n",
    "True if the given *word* is a palindrome, False otherwise."
   ]
  },
  {
   "cell_type": "code",
   "execution_count": null,
   "metadata": {
    "collapsed": true
   },
   "outputs": [],
   "source": [
    "def isWordPalindrome(word):\n",
    "    return word == ....\n"
   ]
  },
  {
   "cell_type": "code",
   "execution_count": null,
   "metadata": {
    "collapsed": true
   },
   "outputs": [],
   "source": [
    "# write your solution here if you do not know how to fill in the \"....\""
   ]
  },
  {
   "cell_type": "markdown",
   "metadata": {},
   "source": [
    "### 4. Microsoft word password decipher\n",
    "\n",
    "You found your word document password protected, but you know how to crack it: you have always used the same password, but encrypt it using permutation ciphers with various keys. The key to the cipher used to protect your document very conveniently happened to be written on your laptop lid.\n",
    "\n",
    "Here's how permutation cipher works: the key to it consists of all the letters of the alphabet written up in some order. All occurrences of letter 'a' in the encrypted text are substituted with the first letter of the key, all occurrences of letter 'b' are replaced with the second letter from the key, and so on, up to letter 'z' replaced with the last symbol of the key.\n",
    "\n",
    "Given the password you always use, your task is to encrypt it using the permutation cipher with the given key.\n",
    "\n",
    "**Example**\n",
    "\n",
    "For password = \"iamthebest\" and\n",
    "key = \"zabcdefghijklmnopqrstuvwxy\", the output should be\n",
    "permutationCipher(password, key) = \"hzlsgdadrs\".\n",
    "\n",
    "**Input/Output**\n",
    "\n",
    "[input] string *password*\n",
    "\n",
    "The password you always use. It is guaranteed to consist only of lowercase English letters.\n",
    "\n",
    "[input] string *key*\n",
    "\n",
    "The key to the permutation cipher. It is guaranteed to be a permutation of the plaintext alphabet.\n",
    "\n",
    "[output] string\n",
    "\n",
    "Your password encrypted by the permutations cipher with the given key."
   ]
  },
  {
   "cell_type": "code",
   "execution_count": null,
   "metadata": {
    "collapsed": true
   },
   "outputs": [],
   "source": [
    "def permutationCipher(password, key):\n",
    "    table = ....\n",
    "    return password.translate(table)\n"
   ]
  },
  {
   "cell_type": "code",
   "execution_count": null,
   "metadata": {
    "collapsed": true
   },
   "outputs": [],
   "source": [
    "# write your solution here if you do not know how to fill in the \"....\""
   ]
  },
  {
   "cell_type": "markdown",
   "metadata": {},
   "source": [
    "### 5. Microsoft word version control\n",
    "\n",
    "The latest release of word has a version control system. In this system, each *commit* is assigned a unique name, the first part of which consists of the username encrypted in the base-4 system using symbols '0', '?', '+', and '!', and the second part consists of symbols of English alphabet.\n",
    "\n",
    "Given such *commit*, your task is go remove the username part from it and return the second part as an answer.\n",
    "\n",
    "**Example**\n",
    "\n",
    "For commit = \"0??+0+!!someCommIdhsSt\", the output should be\n",
    "getCommit(commit) = \"someCommIdhsSt\".\n",
    "\n",
    "**Input/Output**\n",
    "\n",
    "[input] string *commit*\n",
    "\n",
    "Commit in the format given above. Note, that it is possible that it doesn't contain the first or the second part.\n",
    "\n",
    "[output] string\n",
    "\n",
    "The second part of the *commit*."
   ]
  },
  {
   "cell_type": "code",
   "execution_count": null,
   "metadata": {
    "collapsed": true
   },
   "outputs": [],
   "source": [
    "def getCommit(commit):\n",
    "    return ...\n"
   ]
  },
  {
   "cell_type": "code",
   "execution_count": null,
   "metadata": {
    "collapsed": true
   },
   "outputs": [],
   "source": [
    "# write your solution here if you do not know how to fill in the \"....\""
   ]
  },
  {
   "cell_type": "markdown",
   "metadata": {},
   "source": [
    "### 6. Microsoft word line formatter\n",
    "\n",
    "You are going to make a document with only one line of a specific *time*. The track of time will be kept by a float number. It will be displayed on a board with the set precision *precision* with center alignment, and it is guaranteed that it will fit in the screen. Your task is to test the billboard. Given the time *t*, the *width* of the screen and the *precision* with which the *time* should be displayed, return a *string* that should be shown on the billboard.\n",
    "\n",
    "**Example**\n",
    "\n",
    "For *t* = 3.1415, *width* = 10 and *precision* = 2,\n",
    "the output should be\n",
    "lineFormat(t, width, precision) = \"   3.14   \".\n",
    "\n",
    "**Input/Output**\n",
    "\n",
    "[input] float *t*\n",
    "\n",
    "The time to be displayed on the billboard. It is guaranteed that t has at most 5 digits after the decimal point.\n",
    "\n",
    "[input] integer *width*\n",
    "\n",
    "The width of the billboard. It is guaranteed that it's big enough to display the time t with the desired precision.\n",
    "\n",
    "In case it's impossible to align the time perfectly in the center, left padding should be 1 whitespace character shorter than right padding.\n",
    "\n",
    "[input] integer *precision*\n",
    "\n",
    "Precision with which the number should be displayed.\n",
    "\n",
    "[output] string\n",
    "\n",
    "A string of length *width* representing the time *t* as it will be displayed on the billboard."
   ]
  },
  {
   "cell_type": "code",
   "execution_count": null,
   "metadata": {
    "collapsed": true
   },
   "outputs": [],
   "source": [
    "def lineFormat(t, width, precision):\n",
    "    return ...\n"
   ]
  },
  {
   "cell_type": "code",
   "execution_count": null,
   "metadata": {
    "collapsed": true
   },
   "outputs": [],
   "source": [
    "# write your solution here if you do not know how to fill in the \"....\""
   ]
  },
  {
   "cell_type": "markdown",
   "metadata": {},
   "source": [
    "## Problem Solving Exercise\n",
    "\n",
    "please hand in any 6 problems from Hackerrank's string category https://www.hackerrank.com/domains/algorithms/strings\n",
    "\n",
    "Note that **Caesar Cipher** and **Mars Exploration** do not count.\n"
   ]
  },
  {
   "cell_type": "code",
   "execution_count": null,
   "metadata": {
    "collapsed": true
   },
   "outputs": [],
   "source": [
    "# 1"
   ]
  },
  {
   "cell_type": "code",
   "execution_count": null,
   "metadata": {
    "collapsed": true
   },
   "outputs": [],
   "source": [
    "# 2"
   ]
  },
  {
   "cell_type": "code",
   "execution_count": null,
   "metadata": {
    "collapsed": true
   },
   "outputs": [],
   "source": [
    "# 3"
   ]
  },
  {
   "cell_type": "code",
   "execution_count": null,
   "metadata": {
    "collapsed": true
   },
   "outputs": [],
   "source": [
    "# 4"
   ]
  },
  {
   "cell_type": "code",
   "execution_count": null,
   "metadata": {
    "collapsed": true
   },
   "outputs": [],
   "source": [
    "# 5"
   ]
  },
  {
   "cell_type": "code",
   "execution_count": null,
   "metadata": {
    "collapsed": true
   },
   "outputs": [],
   "source": [
    "# 6"
   ]
  },
  {
   "cell_type": "code",
   "execution_count": null,
   "metadata": {
    "collapsed": true
   },
   "outputs": [],
   "source": [
    "# Feedback goes here, feel free to comment on anything."
   ]
  }
 ],
 "metadata": {
  "kernelspec": {
   "display_name": "Python 3",
   "language": "python",
   "name": "python3"
  },
  "language_info": {
   "codemirror_mode": {
    "name": "ipython",
    "version": 3
   },
   "file_extension": ".py",
   "mimetype": "text/x-python",
   "name": "python",
   "nbconvert_exporter": "python",
   "pygments_lexer": "ipython3",
   "version": "3.5.4"
  }
 },
 "nbformat": 4,
 "nbformat_minor": 2
}
