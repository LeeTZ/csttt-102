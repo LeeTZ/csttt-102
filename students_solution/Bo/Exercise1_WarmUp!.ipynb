{
 "cells": [
  {
   "cell_type": "markdown",
   "metadata": {},
   "source": [
    "## Exercise 1 : Warm Up! (100 points)\n",
    "\n",
    "### by Liahnov Techensky\n",
    "\n",
    "#### In this exercise, you will be working on filling in the missing statement in a program. \n",
    "\n",
    "The program should work exactly as described in the problem statement. So probably you will need to make up more *test cases* by yourself.\n",
    "\n",
    "Note that you are **NOT ALLOWED** to modify the program except the '....' part. You cannot delete or add new lines or code. If you cannot achieve that, implement the function with your thoughts in a new cell below. And you will receive half of the points for that problem if your program works correctly."
   ]
  },
  {
   "cell_type": "code",
   "execution_count": 6,
   "metadata": {},
   "outputs": [],
   "source": [
    "# all imports goes here\n",
    "import numpy as np"
   ]
  },
  {
   "cell_type": "markdown",
   "metadata": {},
   "source": [
    "### 1. Sorting is simple!\n",
    "\n",
    "Write a function that, given an array of integers *arr*, sorts its elements in ascending order.\n",
    "\n",
    "**Example**\n",
    "\n",
    "For *arr* = [2, 4, 1, 5], the output should be\n",
    "simpleSort(arr) = [1, 2, 4, 5].\n",
    "\n",
    "**Input/Output**\n",
    "\n",
    "[input] a list of integer: arr\n",
    "\n",
    "1 ≤ len(arr) ≤ 100,\n",
    "-105 ≤ arr[i] ≤ 105.\n",
    "\n",
    "[output] a list of integer\n",
    "\n",
    "The given array with elements sorted in ascending order."
   ]
  },
  {
   "cell_type": "code",
   "execution_count": 7,
   "metadata": {},
   "outputs": [],
   "source": [
    "def simpleSort(arr):\n",
    "    n = len(arr)\n",
    "    for i in range(n):\n",
    "        j = 0\n",
    "        stop = n - i\n",
    "        while j < stop - 1:\n",
    "            if arr[j] > arr[j + 1]:\n",
    "                arr[j], arr[j + 1] = arr[j + 1], arr[j]\n",
    "            j += 1\n",
    "    return arr"
   ]
  },
  {
   "cell_type": "code",
   "execution_count": 8,
   "metadata": {},
   "outputs": [
    {
     "data": {
      "text/plain": [
       "[1, 2, 4, 5]"
      ]
     },
     "execution_count": 8,
     "metadata": {},
     "output_type": "execute_result"
    }
   ],
   "source": [
    "simpleSort([2, 4, 1, 5])"
   ]
  },
  {
   "cell_type": "code",
   "execution_count": 9,
   "metadata": {},
   "outputs": [],
   "source": [
    "def gen1(low=1, high=100):\n",
    "    while True:\n",
    "        yield np.random.randint(low=low, high=high, size=1)[0]\n",
    "\n",
    "def gen2(g1, low=-105, high=105):\n",
    "    while True:\n",
    "        yield list(np.random.randint(low=low, high=high, size=next(g1)))"
   ]
  },
  {
   "cell_type": "code",
   "execution_count": 10,
   "metadata": {},
   "outputs": [
    {
     "name": "stdout",
     "output_type": "stream",
     "text": [
      "simpleSort passes all 10000 cases.\n"
     ]
    }
   ],
   "source": [
    "g1 = gen1()\n",
    "g2 = gen2(g1)\n",
    "n = 10000\n",
    "\n",
    "for i in range(10000):\n",
    "    arr = next(g2)\n",
    "    r1 = sorted(arr)\n",
    "    r2 = simpleSort(arr)\n",
    "    if not r1 == r2:\n",
    "        print('failed in case # {0}'.format(i))\n",
    "        print('array to sort: ', arr)\n",
    "        print('build-in sort result: ', r1)\n",
    "        print('simpleSort result:', r2)\n",
    "        break\n",
    "if i == n-1:\n",
    "    print('simpleSort passes all {0} cases.'.format(n))"
   ]
  },
  {
   "cell_type": "code",
   "execution_count": 11,
   "metadata": {},
   "outputs": [],
   "source": [
    "# write your solution here if you do not know how to fill in the \"....\""
   ]
  },
  {
   "cell_type": "markdown",
   "metadata": {},
   "source": [
    "### 2. Base is Under Attack!\n",
    "\n",
    "Implement a function that, given an integer number *n* and a base *x*, converts *n* from base *x* to base 16.\n",
    "\n",
    "**Example**\n",
    "\n",
    "For *n* = \"1302\" and x = 5, the output should be\n",
    "baseConvertion(n, x) = \"ca\".\n",
    "\n",
    "Here's why:\n",
    "1302<sub>5</sub> = 202<sub>10</sub> = ca<sub>16</sub>.\n",
    "\n",
    "**Input/Output**\n",
    "\n",
    "[input] string *n*\n",
    "\n",
    "A valid non-negative integer in base *x*. The string is guaranteed to consist of digits and lowercase English letters. 1 < n.length ≤ 10.\n",
    "\n",
    "[input] integer *x*\n",
    "\n",
    "The base of *n*. 2 ≤ x ≤ 36.\n",
    "\n",
    "[output] a string\n",
    "\n",
    "The value of *n* in base 16. The string should contain only digits and lowercase English letters 'a' - 'f'."
   ]
  },
  {
   "cell_type": "code",
   "execution_count": 12,
   "metadata": {},
   "outputs": [],
   "source": [
    "def baseConversion(n, x):\n",
    "    return hex(int(str(n), base=x))[2:]"
   ]
  },
  {
   "cell_type": "code",
   "execution_count": 13,
   "metadata": {},
   "outputs": [
    {
     "data": {
      "text/plain": [
       "'ca'"
      ]
     },
     "execution_count": 13,
     "metadata": {},
     "output_type": "execute_result"
    }
   ],
   "source": [
    "baseConversion(1302, 5)"
   ]
  },
  {
   "cell_type": "code",
   "execution_count": 9,
   "metadata": {
    "collapsed": true
   },
   "outputs": [],
   "source": [
    "# write your solution here if you do not know how to fill in the \"....\""
   ]
  },
  {
   "cell_type": "markdown",
   "metadata": {},
   "source": [
    "### 3. I want Bitcoins more than Bits!\n",
    "\n",
    "Implement a function that, given an integer *n*, returns the number of bits in its binary representation.\n",
    "\n",
    "**Example**\n",
    "\n",
    "For *n* = 50, the output should be\n",
    "countBits(n) = 6.\n",
    "\n",
    "50<sub>10</sub> = 110010<sub>2</sub>, a number that consists of 6 digits. Thus, the output should be 6.\n",
    "\n",
    "**Input/Output**\n",
    "\n",
    "[input] integer *n*\n",
    "\n",
    "A positive integer. 1 ≤ n ≤ 109.\n",
    "\n",
    "[output] integer\n",
    "\n",
    "The number of bits in binary representation of *n*."
   ]
  },
  {
   "cell_type": "code",
   "execution_count": 18,
   "metadata": {},
   "outputs": [],
   "source": [
    "def countBits(n):\n",
    "    return n if n == 1 else 1 + countBits(n//2)"
   ]
  },
  {
   "cell_type": "code",
   "execution_count": null,
   "metadata": {
    "collapsed": true
   },
   "outputs": [],
   "source": [
    "# write your solution here if you do not know how to fill in the \"....\"\n",
    "# def countBits(n):\n",
    "#     return np.floor(np.log2(n)).astype('int') + 1"
   ]
  },
  {
   "cell_type": "markdown",
   "metadata": {},
   "source": [
    "### 4. Python List Beautifier\n",
    "\n",
    "Let's call a list **beautiful** if its first element is equal to its last element, or if a list is empty. Given a list *a*, your task is to chop off its first and its last element until it becomes beautiful. Implement a function that will make the given a beautiful as described, and return the resulting list as an answer.\n",
    "\n",
    "Hint: extended unpacking could help here.\n",
    "\n",
    "**Example**\n",
    "\n",
    "For *a* = [3, 4, 2, 4, 38, 4, 5, 3, 2], the output should be\n",
    "listBeautifier(a) = [4, 38, 4].\n",
    "\n",
    "Here's how the answer is obtained:\n",
    "[3, 4, 2, 4, 38, 4, 5, 3, 2] => [4, 2, 4, 38, 4, 5, 3] => [2, 4, 38, 4, 5] => [4, 38, 4].\n",
    "\n",
    "For *a* = [1, 4, -5], the output should be\n",
    "listBeautifier(a) = [4].\n",
    "\n",
    "**Input/Output**\n",
    "\n",
    "[input] a list of integer *a*\n",
    "\n",
    "0 ≤ len(a) ≤ 50,\n",
    "1 ≤ a[i] ≤ 100.\n",
    "\n",
    "[output] a list of integer\n",
    "\n",
    "A beautiful list obtained as described above."
   ]
  },
  {
   "cell_type": "code",
   "execution_count": 18,
   "metadata": {
    "collapsed": true
   },
   "outputs": [],
   "source": [
    "def listBeautifier(a):\n",
    "    res = a[:]\n",
    "    while res and res[0] != res[-1]:\n",
    "        _, *res, _ = res\n",
    "    return res"
   ]
  },
  {
   "cell_type": "code",
   "execution_count": 19,
   "metadata": {
    "collapsed": true
   },
   "outputs": [],
   "source": [
    "# write your solution here if you do not know how to fill in the \"....\""
   ]
  },
  {
   "cell_type": "markdown",
   "metadata": {},
   "source": [
    "### 5. You must indent with SPACE\n",
    "\n",
    "You found an awesome customizable Python IDE. However, after a couple days of coding you discover that there is one important feature that this IDE lacks: it cannot convert tabs to spaces.So you decide to write a plugin that would convert all tabs in the code into the given number of whitespace characters.\n",
    "\n",
    "Implement a function that, given a piece of code and a positive integer *x* will turn each tabulation character (\\t) in code into *x* whitespace characters.\n",
    "\n",
    "**Example**\n",
    "\n",
    "For code = \"\\treturn False\" and x = 4, the output should be\n",
    "convertTabs(code, x) = \"    return False\".\n",
    "\n",
    "**Input/Output**\n",
    "\n",
    "[input] string *code*\n",
    "\n",
    "0 ≤ len(code) ≤ 1500.\n",
    "\n",
    "[input] integer *x*\n",
    "\n",
    "The number of whitespace characters (' ') that should replace each occurrence of the tab character ('\\t').\n",
    "\n",
    "1 ≤ x ≤ 16.\n",
    "\n",
    "[output] string\n",
    "\n",
    "The given code with tabulation characters expanded according to *x*."
   ]
  },
  {
   "cell_type": "code",
   "execution_count": 20,
   "metadata": {
    "collapsed": true
   },
   "outputs": [],
   "source": [
    "def convertTabs(code, x):\n",
    "    return code.replace('\\t', ' '*x)"
   ]
  },
  {
   "cell_type": "code",
   "execution_count": null,
   "metadata": {
    "collapsed": true
   },
   "outputs": [],
   "source": [
    "# write your solution here if you do not know how to fill in the \"....\""
   ]
  },
  {
   "cell_type": "code",
   "execution_count": null,
   "metadata": {
    "collapsed": true
   },
   "outputs": [],
   "source": [
    "# Feedback goes here, feel free to comment on anything."
   ]
  }
 ],
 "metadata": {
  "kernelspec": {
   "display_name": "Python 3",
   "language": "python",
   "name": "python3"
  },
  "language_info": {
   "codemirror_mode": {
    "name": "ipython",
    "version": 3
   },
   "file_extension": ".py",
   "mimetype": "text/x-python",
   "name": "python",
   "nbconvert_exporter": "python",
   "pygments_lexer": "ipython3",
   "version": "3.6.4"
  }
 },
 "nbformat": 4,
 "nbformat_minor": 2
}
