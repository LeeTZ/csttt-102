{
 "cells": [
  {
   "cell_type": "markdown",
   "metadata": {},
   "source": [
    "## Quiz 2:  Python Killing A Gnu (100 points / 120 min  + 30 min)\n",
    "\n",
    "### by Liahnov Techensky \n",
    "\n",
    "#### You will be working on 5 algorithm problems. Code will be tested by instructor with hidden test cases. If any of the test cases fails, the problem receives a score of 0. So be very careful of the edge cases, and make sure you fully understand the problem statements and thoroughly test them before you submit.\n",
    "\n",
    "If you submit the quiz in 0~90 min, you recieved a 110% multiplier on your total score. If in 91~120 min, no multiplier. If in 121~150 min, you recieved a 80% multiplier. Later than 150min, 0 points for the whole quiz.\n",
    "\n",
    "### Good luck!"
   ]
  },
  {
   "cell_type": "markdown",
   "metadata": {},
   "source": [
    "## Xiaofan's Birthday Gift\n",
    "\n",
    "Xiaofan had a great birthday party this year. She had so many gifts that she was actually thinking of not having a party next year.\n",
    "\n",
    "Among these gifts there was an N x N glass chessboard that had a light in each of its cells. When the board was turned on a distinct cell would light up every second, and then go dark.\n",
    "\n",
    "The cells would light up in the sequence shown in the diagram. Each cell is marked with the second in which it would light up.\n",
    "\n",
    "25 | 24 | 23 | 22 | 21\n",
    "\n",
    "10 | 11 | 12 | 13 | 20\n",
    "\n",
    "09 | 08 | 07 | 14 | 19\n",
    "\n",
    "02 | 03 | 06 | 15 | 18\n",
    "\n",
    "01 | 04 | 05 | 16 | 17\n",
    "\n",
    "(The numbers in the grids stand for the time when the corresponding cell lights up)\n",
    "\n",
    "In the first second the light at cell (1, 1) would be on. And in the 5th second the cell (3, 1) would be on. Now, Xiaofan is trying to predict which cell will light up at a certain time (given in seconds). Assume that N is large enough.\n",
    "\n",
    "### Input\n",
    "\n",
    "Input starts with an integer T (≤ 200), denoting the number of test cases.\n",
    "\n",
    "Each case will contain an integer S (1 ≤ S ≤ 1015) which stands for the time.\n",
    "\n",
    "### Output\n",
    "For each case you have to print the case number and two numbers (x, y), the column and the row number.\n",
    "\n",
    "### Sample Input\n",
    "3\n",
    "\n",
    "8\n",
    "\n",
    "20\n",
    "\n",
    "25\n",
    "\n",
    "### Output for Sample Input\n",
    "Case 1: 2 3\n",
    "\n",
    "Case 2: 5 4\n",
    "\n",
    "Case 3: 1 5\n"
   ]
  },
  {
   "cell_type": "code",
   "execution_count": null,
   "metadata": {
    "collapsed": true
   },
   "outputs": [],
   "source": [
    "# Solution for Xiaofan's Birthday Gift\n",
    "import math\n",
    "c,r = 0,0\n",
    "answer = ''\n",
    "def point(s):\n",
    "    if math.sqrt(s)%1 == 0:\n",
    "        if s%2 == 0:\n",
    "            c = math.sqrt(s)\n",
    "            r = 1\n",
    "        else:\n",
    "            c = 1\n",
    "            r = math.sqrt(s)\n",
    "    elif math.floor(math.sqrt(s))%2 == 0:\n",
    "        if s-(math.floor(math.sqrt(s)))**2 <= math.floor(math.sqrt(s))+1:\n",
    "            c = math.floor(math.sqrt(s)) + 1\n",
    "            r = s-(math.floor(math.sqrt(s)))**2 \n",
    "        else:\n",
    "            c = math.floor(math.sqrt(s))-(s-(math.floor(math.sqrt(s)))**2-math.floor(math.sqrt(s))-1-1)\n",
    "            r = math.floor(math.sqrt(s)) + 1\n",
    "    else:\n",
    "        if s-(math.floor(math.sqrt(s)))**2 <= math.floor(math.sqrt(s))+1:\n",
    "            r = math.floor(math.sqrt(s)) + 1\n",
    "            c = s-(math.floor(math.sqrt(s)))**2 \n",
    "        else:\n",
    "            r = math.floor(math.sqrt(s))-(s-(math.floor(math.sqrt(s)))**2-math.floor(math.sqrt(s))-1-1)\n",
    "            c = math.floor(math.sqrt(s)) + 1\n",
    "            \n",
    "    answer = str(int(c))+' '+str(int(r))\n",
    "    return answer\n",
    "\n",
    "\n",
    "t = int(input().strip())\n",
    "for i in range(t):\n",
    "    s = int(input().strip())\n",
    "    print('Case '+str(i+1)+':' + str(point(s)))"
   ]
  },
  {
   "cell_type": "markdown",
   "metadata": {},
   "source": [
    "## Factorials Conjecture\n",
    "\n",
    "Jingdan is really interested in factorials. One day he reads about Goldbach conjecture and then he purposes his conjecture about factorials: any natural number could be expressed as summation of factorials. He asks you, a computer expert, to prove it for him. So given an integer n, you have to find whether it can be expressed as summation of factorials. That's to say, for given n, you have to report a solution such that\n",
    "\n",
    "n = x<sub>1</sub>! + x<sub>2</sub>! + ... + x<sub>n</sub>! (x<sub>i</sub> < x<sub>j</sub> for all i < j)\n",
    "\n",
    "### Input\n",
    "Input starts with an integer T (≤ 10000), denoting the number of test cases.\n",
    "\n",
    "Each case starts with a line containing an integer n (1 ≤ n ≤ 1018).\n",
    "\n",
    "### Output\n",
    "For each case, print the case number and the solution in summation of factorial form. If there is no solution then print 'impossible'. There can be multiple solutions, any valid one will do.\n",
    "\n",
    "### Sample Input\n",
    "4\n",
    "\n",
    "7\n",
    "\n",
    "7\n",
    "\n",
    "9\n",
    "\n",
    "11\n",
    "\n",
    "### Output for Sample Input\n",
    "Case 1: 1!+3!\n",
    "\n",
    "Case 2: 0!+3!\n",
    "\n",
    "Case 3: 1!+2!+3!\n",
    "\n",
    "Case 4: impossible\n"
   ]
  },
  {
   "cell_type": "code",
   "execution_count": null,
   "metadata": {
    "collapsed": true
   },
   "outputs": [],
   "source": [
    "# Solution for Fun Factorials"
   ]
  },
  {
   "cell_type": "markdown",
   "metadata": {},
   "source": [
    "## Overwatch Bot\n",
    "\n",
    "You are tired after playing Overwatch for 10 hours in a day. Then you decided to write an algorithm to control a robot to play for you. Now you have implemented the basic move function for this robot. Your Robot is standing at position (0, 0) when the game begins. Now given a sequence of its moves, judge if this robot makes a circle, which means it moves back to the original place.\n",
    "\n",
    "### Input\n",
    "\n",
    "Input starts with an integer T (≤ 10000), denoting the number of test cases.\n",
    "Each case is a move sequence. The move sequence is represented by a string. And each move is represent by a character. The valid robot moves are R (Right), L (Left), U (Up) and D (down). \n",
    "\n",
    "### Output\n",
    "For each case, the output should be true or false representing whether the robot is at the original place in the end.\n",
    "\n",
    "### Sample Input\n",
    "2\n",
    "\n",
    "UD\n",
    "\n",
    "LLUD\n",
    "\n",
    "### Output for Sample Input\n",
    "Case 1: true\n",
    "\n",
    "Case 2: false"
   ]
  },
  {
   "cell_type": "code",
   "execution_count": null,
   "metadata": {
    "collapsed": true
   },
   "outputs": [],
   "source": [
    "# Solution for Overwatch Bot\n",
    "\n",
    "def original(s):\n",
    "    count_u, count_d, count_l, count_r = 0, 0, 0, 0\n",
    "    for i in s:\n",
    "        if i == 'U':\n",
    "            count_u += 1\n",
    "        if i == 'D':\n",
    "            count_d += 1\n",
    "        if i == 'L':\n",
    "            count_l += 1\n",
    "        if i == 'R':\n",
    "            count_r += 1\n",
    "    if count_u == count_d and count_l == count_r:\n",
    "        return 'true'\n",
    "    else:\n",
    "        return 'false'\n",
    "    \n",
    "t = int(input().strip())\n",
    "for i in range(t):\n",
    "    s = str(input().strip())\n",
    "    print(original(s))"
   ]
  },
  {
   "cell_type": "markdown",
   "metadata": {},
   "source": [
    "## Have you ever seen Manhattan at 4am?\n",
    "There are N employees in Sumi's team. Every team member has a unique number. Sumi's Boss, the Great Evil Monster, checks if everyone arrives at the office at 4:00 am. If he sees someone here, he records the employee's number. Now Sumi wonders how many possible unique cases are there in Boss's notebook.\n",
    "\n",
    "### Input\n",
    "Input starts with an integer T (≤ 100), denoting the number of test cases.\n",
    "Each case you are given a set of distinct integers, denoting employee's number.\n",
    "\n",
    "### Output\n",
    "For each case, print all possible lines that may appear in Boss's notebook. The order dosen't matter.\n",
    "\n",
    "### Sample Input\n",
    "2\n",
    "\n",
    "1 2 3 \n",
    "\n",
    "1\n",
    "\n",
    "### Output for Sample Input\n",
    "Case 1: [\n",
    "  [3],\n",
    "  [1],\n",
    "  [2],\n",
    "  [1,2,3],\n",
    "  [1,3],\n",
    "  [2,3],\n",
    "  [1,2],\n",
    "  []\n",
    "]\n",
    "\n",
    "Case 2: [[1],[]]"
   ]
  },
  {
   "cell_type": "code",
   "execution_count": null,
   "metadata": {
    "collapsed": true
   },
   "outputs": [],
   "source": [
    "# Solution for Have you ever seen Manhattan at 4am"
   ]
  },
  {
   "cell_type": "markdown",
   "metadata": {},
   "source": [
    "## Network Course Recap\n",
    "\n",
    "Shuyang bought new routers because the network at home is sooo slow. TTT and Shuyang are happily installing the routers, but they stuck in the process of setting IP for their computer. None of them remember the network course they took at college, now they have no idea whether the IP address they set is valid or not.\n",
    "\n",
    "Sumi is here to help. Write a function to check whether an input string is a valid IPv4 address or IPv6 address or neither.\n",
    "\n",
    "IPv4 addresses are canonically represented in dot-decimal notation, which consists of four decimal numbers, each ranging from 0 to 255, separated by dots (\".\"), e.g.,172.16.254.1;\n",
    "\n",
    "Besides, leading zeros in the IPv4 is invalid. For example, the address 172.16.254.01 is invalid.\n",
    "\n",
    "IPv6 addresses are represented as eight groups of four hexadecimal digits, each group representing 16 bits. The groups are separated by colons (\":\"). For example, the address 2001:0db8:85a3:0000:0000:8a2e:0370:7334 is a valid one. Also, we could omit some leading zeros among four hexadecimal digits and some low-case characters in the address to upper-case ones, so 2001:db8:85a3:0:0:8A2E:0370:7334 is also a valid IPv6 address(Omit leading zeros and using upper cases).\n",
    "\n",
    "However, we don't replace a consecutive group of zero value with a single empty group using two consecutive colons (::) to pursue simplicity. For example, 2001:0db8:85a3::8A2E:0370:7334 is an invalid IPv6 address.\n",
    "\n",
    "Besides, extra leading zeros in the IPv6 is also invalid. For example, the address 02001:0db8:85a3:0000:0000:8a2e:0370:7334 is invalid.\n",
    "\n",
    "\n",
    "### Input\n",
    "Input starts with an integer T (≤ 100), denoting the number of test cases. For each case, a string of IP address is given. You may assume there is no extra space or special characters in the input string.\n",
    "\n",
    "### Output\n",
    "For each case, print \"IPv4\", \"IPv6\" or \"bullshit\" if it's neither an IPv4 or an IPv6 address.\n",
    "\n",
    "### Sample Input\n",
    "3\n",
    "\n",
    "172.16.254.1\n",
    "\n",
    "2001:0db8:85a3:0:0:8A2E:0370:7334\n",
    "\n",
    "256.257.258.259\n",
    "\n",
    "### Ouput for Sample Input\n",
    "Case 1: IPv4\n",
    "\n",
    "Case 2: IPv6\n",
    "\n",
    "Case 3: bullshit"
   ]
  },
  {
   "cell_type": "code",
   "execution_count": null,
   "metadata": {
    "collapsed": true
   },
   "outputs": [],
   "source": [
    "# Solution for network course recap"
   ]
  },
  {
   "cell_type": "code",
   "execution_count": null,
   "metadata": {
    "collapsed": true
   },
   "outputs": [],
   "source": [
    "# Any feedback of this quiz goes here...\n",
    "# question too hard, time too short"
   ]
  }
 ],
 "metadata": {
  "kernelspec": {
   "display_name": "Python 3",
   "language": "python",
   "name": "python3"
  },
  "language_info": {
   "codemirror_mode": {
    "name": "ipython",
    "version": 3
   },
   "file_extension": ".py",
   "mimetype": "text/x-python",
   "name": "python",
   "nbconvert_exporter": "python",
   "pygments_lexer": "ipython3",
   "version": "3.6.2"
  }
 },
 "nbformat": 4,
 "nbformat_minor": 2
}
