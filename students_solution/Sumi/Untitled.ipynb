{
 "cells": [
  {
   "cell_type": "code",
   "execution_count": 39,
   "metadata": {},
   "outputs": [
    {
     "name": "stdout",
     "output_type": "stream",
     "text": [
      "Li\n",
      "Terisic\n",
      "Li\n",
      "Techensky\n"
     ]
    }
   ],
   "source": [
    "friends = [\"Tiezheng Li\", \"Zlatan Great Terisic\", \"Magian Li\", \"Liahnov Techensky\"]\n",
    "for x in friends:\n",
    "    print(x.split(' ')[-1])"
   ]
  },
  {
   "cell_type": "code",
   "execution_count": 40,
   "metadata": {},
   "outputs": [
    {
     "name": "stdout",
     "output_type": "stream",
     "text": [
      "['Tiezheng Li', 'Magian Li', 'Liahnov Techensky', 'Zlatan Great Terisic']\n"
     ]
    }
   ],
   "source": [
    "def sortFriends(friends):\n",
    "    friends.sort(key= lambda x: x.split(' ')[-1])\n",
    "    return friends\n",
    "print(sortFriends(friends))"
   ]
  },
  {
   "cell_type": "code",
   "execution_count": 41,
   "metadata": {
    "collapsed": true
   },
   "outputs": [],
   "source": [
    "pills = [\"Notforgetan\", \"Antimoron\", \"Rememberin\", \"Bestmedicen\", \"Superpillsus\"]"
   ]
  },
  {
   "cell_type": "code",
   "execution_count": 152,
   "metadata": {},
   "outputs": [
    {
     "ename": "StopIteration",
     "evalue": "",
     "output_type": "error",
     "traceback": [
      "\u001b[0;31m---------------------------------------------------------------------------\u001b[0m",
      "\u001b[0;31mStopIteration\u001b[0m                             Traceback (most recent call last)",
      "\u001b[0;32m<ipython-input-152-6441879aab92>\u001b[0m in \u001b[0;36m<module>\u001b[0;34m()\u001b[0m\n\u001b[1;32m      4\u001b[0m     \u001b[0mnext\u001b[0m\u001b[0;34m(\u001b[0m\u001b[0mgen\u001b[0m\u001b[0;34m)\u001b[0m\u001b[0;34m\u001b[0m\u001b[0m\n\u001b[1;32m      5\u001b[0m     \u001b[0;32mreturn\u001b[0m \u001b[0;34m[\u001b[0m\u001b[0mnext\u001b[0m\u001b[0;34m(\u001b[0m\u001b[0mgen\u001b[0m\u001b[0;34m)\u001b[0m \u001b[0;32mfor\u001b[0m \u001b[0m_\u001b[0m \u001b[0;32min\u001b[0m \u001b[0mrange\u001b[0m\u001b[0;34m(\u001b[0m\u001b[0;36m3\u001b[0m\u001b[0;34m)\u001b[0m\u001b[0;34m]\u001b[0m\u001b[0;34m\u001b[0m\u001b[0m\n\u001b[0;32m----> 6\u001b[0;31m \u001b[0mprint\u001b[0m\u001b[0;34m(\u001b[0m\u001b[0mmemoryPills\u001b[0m\u001b[0;34m(\u001b[0m\u001b[0mpills\u001b[0m\u001b[0;34m)\u001b[0m\u001b[0;34m)\u001b[0m\u001b[0;34m\u001b[0m\u001b[0m\n\u001b[0m",
      "\u001b[0;32m<ipython-input-152-6441879aab92>\u001b[0m in \u001b[0;36mmemoryPills\u001b[0;34m(pills)\u001b[0m\n\u001b[1;32m      3\u001b[0m     \u001b[0mgen\u001b[0m \u001b[0;34m=\u001b[0m \u001b[0mfilter\u001b[0m\u001b[0;34m(\u001b[0m\u001b[0;32mlambda\u001b[0m \u001b[0mx\u001b[0m\u001b[0;34m:\u001b[0m \u001b[0mlen\u001b[0m\u001b[0;34m(\u001b[0m\u001b[0mx\u001b[0m\u001b[0;34m)\u001b[0m\u001b[0;34m%\u001b[0m\u001b[0;36m2\u001b[0m\u001b[0;34m==\u001b[0m\u001b[0;36m0\u001b[0m\u001b[0;34m,\u001b[0m \u001b[0mpills\u001b[0m\u001b[0;34m)\u001b[0m\u001b[0;34m\u001b[0m\u001b[0m\n\u001b[1;32m      4\u001b[0m     \u001b[0mnext\u001b[0m\u001b[0;34m(\u001b[0m\u001b[0mgen\u001b[0m\u001b[0;34m)\u001b[0m\u001b[0;34m\u001b[0m\u001b[0m\n\u001b[0;32m----> 5\u001b[0;31m     \u001b[0;32mreturn\u001b[0m \u001b[0;34m[\u001b[0m\u001b[0mnext\u001b[0m\u001b[0;34m(\u001b[0m\u001b[0mgen\u001b[0m\u001b[0;34m)\u001b[0m \u001b[0;32mfor\u001b[0m \u001b[0m_\u001b[0m \u001b[0;32min\u001b[0m \u001b[0mrange\u001b[0m\u001b[0;34m(\u001b[0m\u001b[0;36m3\u001b[0m\u001b[0;34m)\u001b[0m\u001b[0;34m]\u001b[0m\u001b[0;34m\u001b[0m\u001b[0m\n\u001b[0m\u001b[1;32m      6\u001b[0m \u001b[0mprint\u001b[0m\u001b[0;34m(\u001b[0m\u001b[0mmemoryPills\u001b[0m\u001b[0;34m(\u001b[0m\u001b[0mpills\u001b[0m\u001b[0;34m)\u001b[0m\u001b[0;34m)\u001b[0m\u001b[0;34m\u001b[0m\u001b[0m\n",
      "\u001b[0;32m<ipython-input-152-6441879aab92>\u001b[0m in \u001b[0;36m<listcomp>\u001b[0;34m(.0)\u001b[0m\n\u001b[1;32m      3\u001b[0m     \u001b[0mgen\u001b[0m \u001b[0;34m=\u001b[0m \u001b[0mfilter\u001b[0m\u001b[0;34m(\u001b[0m\u001b[0;32mlambda\u001b[0m \u001b[0mx\u001b[0m\u001b[0;34m:\u001b[0m \u001b[0mlen\u001b[0m\u001b[0;34m(\u001b[0m\u001b[0mx\u001b[0m\u001b[0;34m)\u001b[0m\u001b[0;34m%\u001b[0m\u001b[0;36m2\u001b[0m\u001b[0;34m==\u001b[0m\u001b[0;36m0\u001b[0m\u001b[0;34m,\u001b[0m \u001b[0mpills\u001b[0m\u001b[0;34m)\u001b[0m\u001b[0;34m\u001b[0m\u001b[0m\n\u001b[1;32m      4\u001b[0m     \u001b[0mnext\u001b[0m\u001b[0;34m(\u001b[0m\u001b[0mgen\u001b[0m\u001b[0;34m)\u001b[0m\u001b[0;34m\u001b[0m\u001b[0m\n\u001b[0;32m----> 5\u001b[0;31m     \u001b[0;32mreturn\u001b[0m \u001b[0;34m[\u001b[0m\u001b[0mnext\u001b[0m\u001b[0;34m(\u001b[0m\u001b[0mgen\u001b[0m\u001b[0;34m)\u001b[0m \u001b[0;32mfor\u001b[0m \u001b[0m_\u001b[0m \u001b[0;32min\u001b[0m \u001b[0mrange\u001b[0m\u001b[0;34m(\u001b[0m\u001b[0;36m3\u001b[0m\u001b[0;34m)\u001b[0m\u001b[0;34m]\u001b[0m\u001b[0;34m\u001b[0m\u001b[0m\n\u001b[0m\u001b[1;32m      6\u001b[0m \u001b[0mprint\u001b[0m\u001b[0;34m(\u001b[0m\u001b[0mmemoryPills\u001b[0m\u001b[0;34m(\u001b[0m\u001b[0mpills\u001b[0m\u001b[0;34m)\u001b[0m\u001b[0;34m)\u001b[0m\u001b[0;34m\u001b[0m\u001b[0m\n",
      "\u001b[0;31mStopIteration\u001b[0m: "
     ]
    }
   ],
   "source": [
    "import itertools as it\n",
    "def memoryPills(pills):\n",
    "    gen = filter(lambda x: len(x)%2 == 0, pills)\n",
    "    next(gen)\n",
    "    return [next(gen) for _ in range(3)]\n",
    "print(memoryPills(pills))"
   ]
  },
  {
   "cell_type": "code",
   "execution_count": 153,
   "metadata": {},
   "outputs": [
    {
     "ename": "TypeError",
     "evalue": "'list' object is not an iterator",
     "output_type": "error",
     "traceback": [
      "\u001b[0;31m---------------------------------------------------------------------------\u001b[0m",
      "\u001b[0;31mTypeError\u001b[0m                                 Traceback (most recent call last)",
      "\u001b[0;32m<ipython-input-153-4cc710f30b87>\u001b[0m in \u001b[0;36m<module>\u001b[0;34m()\u001b[0m\n\u001b[1;32m      1\u001b[0m \u001b[0ma\u001b[0m \u001b[0;34m=\u001b[0m \u001b[0;34m[\u001b[0m\u001b[0;36m1\u001b[0m\u001b[0;34m,\u001b[0m\u001b[0;36m2\u001b[0m\u001b[0;34m,\u001b[0m\u001b[0;36m3\u001b[0m\u001b[0;34m,\u001b[0m\u001b[0;36m4\u001b[0m\u001b[0;34m,\u001b[0m\u001b[0;36m5\u001b[0m\u001b[0;34m,\u001b[0m\u001b[0;36m6\u001b[0m\u001b[0;34m,\u001b[0m\u001b[0;36m7\u001b[0m\u001b[0;34m,\u001b[0m\u001b[0;36m8\u001b[0m\u001b[0;34m,\u001b[0m\u001b[0;36m9\u001b[0m\u001b[0;34m]\u001b[0m\u001b[0;34m\u001b[0m\u001b[0m\n\u001b[0;32m----> 2\u001b[0;31m \u001b[0mnext\u001b[0m\u001b[0;34m(\u001b[0m\u001b[0ma\u001b[0m\u001b[0;34m)\u001b[0m\u001b[0;34m\u001b[0m\u001b[0m\n\u001b[0m",
      "\u001b[0;31mTypeError\u001b[0m: 'list' object is not an iterator"
     ]
    }
   ],
   "source": []
  },
  {
   "cell_type": "code",
   "execution_count": 44,
   "metadata": {},
   "outputs": [
    {
     "data": {
      "text/plain": [
       "3.141592653589793"
      ]
     },
     "execution_count": 44,
     "metadata": {},
     "output_type": "execute_result"
    }
   ],
   "source": [
    "import math\n",
    "math.pi"
   ]
  },
  {
   "cell_type": "code",
   "execution_count": 46,
   "metadata": {},
   "outputs": [
    {
     "ename": "ModuleNotFoundError",
     "evalue": "No module named 'sympy'",
     "output_type": "error",
     "traceback": [
      "\u001b[0;31m---------------------------------------------------------------------------\u001b[0m",
      "\u001b[0;31mModuleNotFoundError\u001b[0m                       Traceback (most recent call last)",
      "\u001b[0;32m<ipython-input-46-d13bca157065>\u001b[0m in \u001b[0;36m<module>\u001b[0;34m()\u001b[0m\n\u001b[0;32m----> 1\u001b[0;31m \u001b[0;32mfrom\u001b[0m \u001b[0msympy\u001b[0m\u001b[0;34m.\u001b[0m\u001b[0mmpmath\u001b[0m \u001b[0;32mimport\u001b[0m \u001b[0mmp\u001b[0m\u001b[0;34m\u001b[0m\u001b[0m\n\u001b[0m\u001b[1;32m      2\u001b[0m \u001b[0mmp\u001b[0m\u001b[0;34m.\u001b[0m\u001b[0mdps\u001b[0m \u001b[0;34m=\u001b[0m \u001b[0;36m1003\u001b[0m\u001b[0;34m\u001b[0m\u001b[0m\n\u001b[1;32m      3\u001b[0m \u001b[0mprint\u001b[0m\u001b[0;34m(\u001b[0m\u001b[0mmp\u001b[0m\u001b[0;34m.\u001b[0m\u001b[0mpi\u001b[0m\u001b[0;34m)\u001b[0m\u001b[0;34m\u001b[0m\u001b[0m\n",
      "\u001b[0;31mModuleNotFoundError\u001b[0m: No module named 'sympy'"
     ]
    }
   ],
   "source": [
    "from sympy.mpmath import mp\n",
    "mp.dps = 1003\n",
    "print(mp.pi)"
   ]
  },
  {
   "cell_type": "code",
   "execution_count": 81,
   "metadata": {},
   "outputs": [
    {
     "name": "stdout",
     "output_type": "stream",
     "text": [
      "3141592653589793238462643383279502884197169399375105820974944592307816406286208998628034825342117067982148086513282306647093844609550582231725359408128481117450284102701938521105559644622948954930381964428810975665933446128475648233786783165271201909145648566923460348610454326648213393607260249141273724587006606315588174881520920962829254091715364367892590360011330530548820466521384146951941511609433057270365759591953092186117381932611793105118548074462379962749567351885752724891227938183011949129833673362440656643086021394946395224737190702179860943702770539217176293176752384674818467669405132000568127145263560827785771342757789609173637178721468440901224953430146549585371050792279689258923542019956112129021960864034418159813629774771309960518707211349999998372978049951059731732816096318595024459455346908302642522308253344685035261931188171010003137838752886587533208381420617177669147303598253490428755468731159562863882353787593751957781857780532171226806613001927876611195909216420198938\n"
     ]
    }
   ],
   "source": [
    "def make_pi():\n",
    "    q, r, t, k, m, x = 1, 0, 1, 1, 3, 3\n",
    "    for j in range(4329):\n",
    "        if 4 * q + r - t < m * t:\n",
    "            yield m\n",
    "            q, r, t, k, m, x = 10*q, 10*(r-m*t), t, k, (10*(3*q+r))//t - 10*m, x\n",
    "        else:\n",
    "            q, r, t, k, m, x = q*k, (2*q+r)*x, t*x, k+1, (q*(7*k+2)+r*x)//(t*x), x+2\n",
    "\n",
    "\n",
    "digits = make_pi()\n",
    "pi_list = []\n",
    "my_array = []\n",
    "\n",
    "for i in make_pi():\n",
    "    my_array.append(str(i))\n",
    "\n",
    "my_array = my_array[:1] + my_array[1:]\n",
    "pi = \"\".join(my_array)\n",
    "print(pi)"
   ]
  },
  {
   "cell_type": "code",
   "execution_count": 130,
   "metadata": {},
   "outputs": [
    {
     "name": "stdout",
     "output_type": "stream",
     "text": [
      "{'314': 1, '141': 2}\n"
     ]
    }
   ],
   "source": [
    "num = {}\n",
    "for i in range(len(pi)-2):\n",
    "    num[pi[i:i+3]] = pi.count(pi[i:i+3])\n",
    "    if num[pi[i:i+3]] != 1:\n",
    "        break\n",
    "print(num)"
   ]
  },
  {
   "cell_type": "code",
   "execution_count": 133,
   "metadata": {},
   "outputs": [
    {
     "ename": "KeyError",
     "evalue": "'314'",
     "output_type": "error",
     "traceback": [
      "\u001b[0;31m---------------------------------------------------------------------------\u001b[0m",
      "\u001b[0;31mKeyError\u001b[0m                                  Traceback (most recent call last)",
      "\u001b[0;32m<ipython-input-133-119dbe40ec18>\u001b[0m in \u001b[0;36m<module>\u001b[0;34m()\u001b[0m\n\u001b[1;32m      4\u001b[0m     \u001b[0mar\u001b[0m\u001b[0;34m.\u001b[0m\u001b[0mappend\u001b[0m\u001b[0;34m(\u001b[0m\u001b[0mpi\u001b[0m\u001b[0;34m[\u001b[0m\u001b[0mi\u001b[0m\u001b[0;34m:\u001b[0m\u001b[0mi\u001b[0m\u001b[0;34m+\u001b[0m\u001b[0;36m3\u001b[0m\u001b[0;34m]\u001b[0m\u001b[0;34m)\u001b[0m\u001b[0;34m\u001b[0m\u001b[0m\n\u001b[1;32m      5\u001b[0m     \u001b[0;32mif\u001b[0m \u001b[0mpi\u001b[0m\u001b[0;34m[\u001b[0m\u001b[0mi\u001b[0m\u001b[0;34m:\u001b[0m\u001b[0mi\u001b[0m\u001b[0;34m+\u001b[0m\u001b[0;36m3\u001b[0m\u001b[0;34m]\u001b[0m \u001b[0;32min\u001b[0m \u001b[0mar\u001b[0m\u001b[0;34m:\u001b[0m\u001b[0;34m\u001b[0m\u001b[0m\n\u001b[0;32m----> 6\u001b[0;31m         \u001b[0mnum\u001b[0m\u001b[0;34m[\u001b[0m\u001b[0mpi\u001b[0m\u001b[0;34m[\u001b[0m\u001b[0mi\u001b[0m\u001b[0;34m:\u001b[0m\u001b[0mi\u001b[0m\u001b[0;34m+\u001b[0m\u001b[0;36m3\u001b[0m\u001b[0;34m]\u001b[0m\u001b[0;34m]\u001b[0m \u001b[0;34m+=\u001b[0m \u001b[0;36m1\u001b[0m\u001b[0;34m\u001b[0m\u001b[0m\n\u001b[0m\u001b[1;32m      7\u001b[0m     \u001b[0;32mif\u001b[0m \u001b[0mnum\u001b[0m\u001b[0;34m[\u001b[0m\u001b[0mpi\u001b[0m\u001b[0;34m[\u001b[0m\u001b[0mi\u001b[0m\u001b[0;34m:\u001b[0m\u001b[0mi\u001b[0m\u001b[0;34m+\u001b[0m\u001b[0;36m3\u001b[0m\u001b[0;34m]\u001b[0m\u001b[0;34m]\u001b[0m \u001b[0;34m==\u001b[0m \u001b[0;36m2\u001b[0m\u001b[0;34m:\u001b[0m\u001b[0;34m\u001b[0m\u001b[0m\n\u001b[1;32m      8\u001b[0m         \u001b[0mprint\u001b[0m\u001b[0;34m(\u001b[0m\u001b[0mpi\u001b[0m\u001b[0;34m[\u001b[0m\u001b[0mi\u001b[0m\u001b[0;34m:\u001b[0m\u001b[0mi\u001b[0m\u001b[0;34m+\u001b[0m\u001b[0;36m3\u001b[0m\u001b[0;34m]\u001b[0m\u001b[0;34m)\u001b[0m\u001b[0;34m\u001b[0m\u001b[0m\n",
      "\u001b[0;31mKeyError\u001b[0m: '314'"
     ]
    }
   ],
   "source": [
    "ar = []\n",
    "num = {}\n",
    "for i in range(len(pi)-2):\n",
    "    ar.append(pi[i:i+3])\n",
    "    if pi[i:i+3] in ar:\n",
    "        num[pi[i:i+3]] += 1\n",
    "    if num[pi[i:i+3]] == 2:\n",
    "        print(pi[i:i+3])\n",
    "        break    "
   ]
  },
  {
   "cell_type": "code",
   "execution_count": 1,
   "metadata": {},
   "outputs": [
    {
     "ename": "NameError",
     "evalue": "name 'pi' is not defined",
     "output_type": "error",
     "traceback": [
      "\u001b[0;31m---------------------------------------------------------------------------\u001b[0m",
      "\u001b[0;31mNameError\u001b[0m                                 Traceback (most recent call last)",
      "\u001b[0;32m<ipython-input-1-2a64b53e3222>\u001b[0m in \u001b[0;36m<module>\u001b[0;34m()\u001b[0m\n\u001b[1;32m      1\u001b[0m \u001b[0mnum\u001b[0m \u001b[0;34m=\u001b[0m \u001b[0;34m{\u001b[0m\u001b[0;34m}\u001b[0m\u001b[0;34m\u001b[0m\u001b[0m\n\u001b[0;32m----> 2\u001b[0;31m \u001b[0;32mfor\u001b[0m \u001b[0mi\u001b[0m \u001b[0;32min\u001b[0m \u001b[0mrange\u001b[0m\u001b[0;34m(\u001b[0m\u001b[0mlen\u001b[0m\u001b[0;34m(\u001b[0m\u001b[0mpi\u001b[0m\u001b[0;34m)\u001b[0m\u001b[0;34m-\u001b[0m\u001b[0;36m2\u001b[0m\u001b[0;34m)\u001b[0m\u001b[0;34m:\u001b[0m\u001b[0;34m\u001b[0m\u001b[0m\n\u001b[0m\u001b[1;32m      3\u001b[0m     \u001b[0mnum\u001b[0m\u001b[0;34m[\u001b[0m\u001b[0mpi\u001b[0m\u001b[0;34m[\u001b[0m\u001b[0mi\u001b[0m\u001b[0;34m:\u001b[0m\u001b[0mi\u001b[0m\u001b[0;34m+\u001b[0m\u001b[0;36m3\u001b[0m\u001b[0;34m]\u001b[0m\u001b[0;34m]\u001b[0m \u001b[0;34m=\u001b[0m \u001b[0mnum\u001b[0m\u001b[0;34m.\u001b[0m\u001b[0mget\u001b[0m\u001b[0;34m(\u001b[0m\u001b[0mpi\u001b[0m\u001b[0;34m[\u001b[0m\u001b[0mi\u001b[0m\u001b[0;34m:\u001b[0m\u001b[0mi\u001b[0m\u001b[0;34m+\u001b[0m\u001b[0;36m3\u001b[0m\u001b[0;34m]\u001b[0m\u001b[0;34m,\u001b[0m\u001b[0;36m0\u001b[0m\u001b[0;34m)\u001b[0m\u001b[0;34m+\u001b[0m\u001b[0;36m1\u001b[0m\u001b[0;34m\u001b[0m\u001b[0m\n\u001b[1;32m      4\u001b[0m     \u001b[0;32mif\u001b[0m \u001b[0mnum\u001b[0m\u001b[0;34m[\u001b[0m\u001b[0mpi\u001b[0m\u001b[0;34m[\u001b[0m\u001b[0mi\u001b[0m\u001b[0;34m:\u001b[0m\u001b[0mi\u001b[0m\u001b[0;34m+\u001b[0m\u001b[0;36m3\u001b[0m\u001b[0;34m]\u001b[0m\u001b[0;34m]\u001b[0m \u001b[0;34m==\u001b[0m \u001b[0;36m2\u001b[0m\u001b[0;34m:\u001b[0m\u001b[0;34m\u001b[0m\u001b[0m\n\u001b[1;32m      5\u001b[0m         \u001b[0mprint\u001b[0m\u001b[0;34m(\u001b[0m\u001b[0mpi\u001b[0m\u001b[0;34m[\u001b[0m\u001b[0mi\u001b[0m\u001b[0;34m:\u001b[0m\u001b[0mi\u001b[0m\u001b[0;34m+\u001b[0m\u001b[0;36m3\u001b[0m\u001b[0;34m]\u001b[0m\u001b[0;34m)\u001b[0m\u001b[0;34m\u001b[0m\u001b[0m\n",
      "\u001b[0;31mNameError\u001b[0m: name 'pi' is not defined"
     ]
    }
   ],
   "source": [
    "num = {}\n",
    "for i in range(len(pi)-2):\n",
    "    num[pi[i:i+3]] = num.get(pi[i:i+3],0)+1\n",
    "    if num[pi[i:i+3]] == 2:\n",
    "        print(pi[i:i+3])\n",
    "        break"
   ]
  },
  {
   "cell_type": "code",
   "execution_count": 2,
   "metadata": {},
   "outputs": [
    {
     "ename": "SyntaxError",
     "evalue": "invalid syntax (<ipython-input-2-1b9d34c38147>, line 2)",
     "output_type": "error",
     "traceback": [
      "\u001b[0;36m  File \u001b[0;32m\"<ipython-input-2-1b9d34c38147>\"\u001b[0;36m, line \u001b[0;32m2\u001b[0m\n\u001b[0;31m    def createNumber(....):\u001b[0m\n\u001b[0m                       ^\u001b[0m\n\u001b[0;31mSyntaxError\u001b[0m\u001b[0;31m:\u001b[0m invalid syntax\n"
     ]
    }
   ],
   "source": [
    "def hack(digits, k, d):\n",
    "    def createNumber(....):\n",
    "        return \"\".join(....)\n",
    "    return ...."
   ]
  },
  {
   "cell_type": "code",
   "execution_count": 13,
   "metadata": {},
   "outputs": [
    {
     "name": "stdout",
     "output_type": "stream",
     "text": [
      "1\n",
      "212 369\n",
      "2568 6430 5783\n",
      "3625935\n"
     ]
    }
   ],
   "source": [
    "import sys\n",
    "\n",
    "\n",
    "def minUnits(b,w,x,y,z):       \n",
    "    if max(x,y,z) == y and x+z < y: \n",
    "        units = (b+w)*x+w*z \n",
    "    elif max(x,y,z) == x and y+z < x:\n",
    "        units = (b+w)*y+b*z\n",
    "    else:\n",
    "        units = b*x+w*y \n",
    "    return units\n",
    "\n",
    "t = int(input().strip())\n",
    "units = 0\n",
    "for a0 in range(t):\n",
    "    b,w = input().strip().split(' ')\n",
    "    b,w = [int(b),int(w)]\n",
    "    x,y,z = input().strip().split(' ')\n",
    "    x,y,z = [int(x),int(y),int(z)]\n",
    "    print(minUnits(b,w,x,y,z))\n"
   ]
  },
  {
   "cell_type": "code",
   "execution_count": 82,
   "metadata": {},
   "outputs": [
    {
     "name": "stdout",
     "output_type": "stream",
     "text": [
      "1 9 45 55 99 \n"
     ]
    }
   ],
   "source": [
    "def isKaprekar(p,q):\n",
    "    res = \"\"\n",
    "    for i in range(p,q+1):\n",
    "        square = str(i**2)       \n",
    "        length = len(square)\n",
    "        if i == 1:\n",
    "            res += '1 '\n",
    "        elif i > 3:\n",
    "            left = length//2\n",
    "            if int(square[:left]) + int(square[left:]) == i:\n",
    "                res += str(i)+' '\n",
    "    if res == '':\n",
    "        res = 'INVALID RANGE'\n",
    "    return res\n",
    "    \n",
    "p = 1\n",
    "q = 100\n",
    "print(isKaprekar(p,q))"
   ]
  },
  {
   "cell_type": "code",
   "execution_count": 95,
   "metadata": {},
   "outputs": [
    {
     "name": "stdout",
     "output_type": "stream",
     "text": [
      "5\n",
      "59\n",
      "one minute to six\n"
     ]
    }
   ],
   "source": [
    "dic = { 1 : 'one', 2 : 'two', 3 : 'three', 4 : 'four', 5 : 'five', \\\n",
    "          6 : 'six', 7 : 'seven', 8 : 'eight', 9 : 'nine', 10 : 'ten', \\\n",
    "          11 : 'eleven', 12 : 'twelve', 13 : 'thirteen', 14 : 'fourteen', \\\n",
    "          15 : 'quarter', 16 : 'sixteen', 17 : 'seventeen', 18 : 'eighteen', \\\n",
    "          19 : 'ninteen', 20 : 'twenty', 21 : 'twenty one', 22 : 'twenty two',  \n",
    "          23 : 'twenty three', 24 : 'twenty four', 25 : 'twenty five', 26 : 'twenty six', \n",
    "          27 : 'twenty seven', 28 : 'twenty eight', 29 : 'twenty nine', 30 : 'half'}\n",
    "\n",
    "def timeToWords(h,m):\n",
    "    if m == 0:    \n",
    "        return dic[h] + ' o\\' clock'\n",
    "    if 0 < m <= 30:\n",
    "        if m == 1:\n",
    "            return dic[m] + ' minute past ' + dic[h]\n",
    "        elif m == 15 or m == 30:\n",
    "            return dic[m] + ' past ' + dic[h]\n",
    "        else:\n",
    "            return dic[m] + ' minutes past ' + dic[h]\n",
    "    if 30 < m < 60:\n",
    "        if h == 12:\n",
    "            if m == 59:\n",
    "                return dic[60-m] + ' minute to ' + dic[1]\n",
    "            elif m == 45:\n",
    "                return dic[60-m] + ' to ' + dic[1]\n",
    "            else:\n",
    "                return dic[60-m] + ' minutes to ' + dic[1]\n",
    "        else:\n",
    "            if m == 59:\n",
    "                return dic[60-m] + ' minute to ' + dic[h+1]\n",
    "            elif m == 45:\n",
    "                return dic[60-m] + ' to ' + dic[h+1]\n",
    "            else:\n",
    "                return dic[60-m] + ' minutes to ' + dic[h+1]\n",
    "            \n",
    "\n",
    "h = int(input().strip())\n",
    "m = int(input().strip())\n",
    "\n",
    "print(timeToWords(h,m))"
   ]
  },
  {
   "cell_type": "code",
   "execution_count": 7,
   "metadata": {},
   "outputs": [
    {
     "name": "stdout",
     "output_type": "stream",
     "text": [
      "xewvsmskxo yicoggycgr wzakcclttg hniqhyncmn pzzwxnrrix liexdfzkaa jsqkurgcbk svwrppxng pugoscdvh fkatujfkc \n"
     ]
    }
   ],
   "source": [
    "import math\n",
    "\n",
    "def encryotion(s):\n",
    "    d = 0\n",
    "    code = \"\"\n",
    "    length = math.sqrt(len(s))\n",
    "    row = math.floor(length)\n",
    "    col = math.ceil(length)\n",
    "  \n",
    "    if row*col >= len(s):\n",
    "        if row*col - len(s) == 0:\n",
    "            for i in range(col):        \n",
    "                while d < row:\n",
    "                    code += s[i + d*col]\n",
    "                    d += 1\n",
    "                code += ' '\n",
    "                d = 0\n",
    "        else:\n",
    "            for i in range(int(len(s)%row)+1):        \n",
    "                while d < row:\n",
    "                    code += s[i + d*col]\n",
    "                    d += 1\n",
    "                code += ' '\n",
    "                d = 0\n",
    "            for i in range(int(len(s)%row)+1,col):\n",
    "                while d < row-1:\n",
    "                    code += s[i + d*col]\n",
    "                    d += 1\n",
    "                code += ' '\n",
    "                d = 0\n",
    "                \n",
    "    if row*col < len(s):\n",
    "        row += 1\n",
    "        for i in range(int(len(s)%row)):        \n",
    "            while d < row:\n",
    "                code += s[i + d*col]\n",
    "                d += 1\n",
    "            code += ' '\n",
    "            d = 0\n",
    "        for i in range(int(len(s)%row),col):\n",
    "            while d < row-1:\n",
    "                code += s[i + d*col]\n",
    "                d += 1\n",
    "            code += ' '\n",
    "            d = 0\n",
    "    return code\n",
    "\n",
    "s = input().strip()\n",
    "print(encryotion(s))"
   ]
  },
  {
   "cell_type": "code",
   "execution_count": 159,
   "metadata": {},
   "outputs": [
    {
     "data": {
      "text/plain": [
       "'j'"
      ]
     },
     "execution_count": 159,
     "metadata": {},
     "output_type": "execute_result"
    }
   ],
   "source": [
    "a = 'jieorjgo'\n",
    "a[-8]"
   ]
  },
  {
   "cell_type": "code",
   "execution_count": 9,
   "metadata": {},
   "outputs": [
    {
     "name": "stdout",
     "output_type": "stream",
     "text": [
      "asc\n"
     ]
    }
   ],
   "source": [
    "def biggerLexic(w):\n",
    "\n",
    "    if len(set(w)) == 1:\n",
    "        return \"no answer\"\n",
    "    \n",
    "    i = 1  \n",
    "    while i < len(w):\n",
    "        if ord(w[-i]) <= ord(w[-i-1]):            \n",
    "            i += 1\n",
    "        else:\n",
    "            i += 1\n",
    "            break    \n",
    "    if i == 2:\n",
    "        if ord(w[-i]) >= ord(w[-1]):\n",
    "            return \"no answer\"\n",
    "    \n",
    "    big = ''\n",
    "    big += w[:-i]\n",
    "        \n",
    "    l = list(w[-i:])    \n",
    "    l.sort()\n",
    "        \n",
    "    big += l[l.index(w[-i])+1]\n",
    "    l.remove(l[l.index(w[-i])+1])\n",
    "    for j in l:\n",
    "        big += j\n",
    "        \n",
    "    return big\n",
    "\n",
    "    \n",
    "w = 'acs'\n",
    "print(biggerLexic(w))"
   ]
  },
  {
   "cell_type": "code",
   "execution_count": 23,
   "metadata": {},
   "outputs": [
    {
     "name": "stdout",
     "output_type": "stream",
     "text": [
      "hcdk\n"
     ]
    }
   ],
   "source": [
    "def next_lex(w):\n",
    "    i = len(w) - 1\n",
    "    while i > 0 and w[i-1] >= w[i]:\n",
    "        i -= 1\n",
    "    if i <= 0:\n",
    "        return 'no answer'\n",
    "\n",
    "    j = len(w) - 1\n",
    "    while j >= i and w[j] <= w[i-1]:\n",
    "        j -= 1\n",
    "    \n",
    "    l = list(w)    \n",
    "    l[i-1], l[j] = l[j], l[i-1]    \n",
    "    l[i:] = l[len(w)-1 : i-1 : -1]\n",
    "    ans = ''\n",
    "    for i in range(len(l)):\n",
    "        ans += l[i]\n",
    "    \n",
    "    return ans\n",
    "w = 'dkhc'\n",
    "print(next_lex(w))"
   ]
  },
  {
   "cell_type": "code",
   "execution_count": 189,
   "metadata": {},
   "outputs": [
    {
     "name": "stdout",
     "output_type": "stream",
     "text": [
      "1\n",
      "6 2 2\n",
      "5\n"
     ]
    }
   ],
   "source": [
    "def chocolate(n,c,m):\n",
    "    num = 0\n",
    "    wrap = n/c\n",
    "    if wrap < m:\n",
    "        num = wrap\n",
    "        return int(num)\n",
    "    else: \n",
    "        num = wrap\n",
    "        while wrap >= m:\n",
    "            d = wrap // m \n",
    "            num += d\n",
    "            wrap = wrap%m + d\n",
    "        \n",
    "        return int(num)\n",
    "\n",
    "t = int(input().strip())\n",
    "for a0 in range(t):\n",
    "    n,c,m = input().strip().split(' ')\n",
    "    n,c,m = [int(n),int(c),int(m)]\n",
    "    print(chocolate(n,c,m))\n"
   ]
  },
  {
   "cell_type": "code",
   "execution_count": 4,
   "metadata": {},
   "outputs": [
    {
     "data": {
      "text/plain": [
       "'f'"
      ]
     },
     "execution_count": 4,
     "metadata": {},
     "output_type": "execute_result"
    }
   ],
   "source": [
    "a = 'foijfeor'\n",
    "a[-8]"
   ]
  },
  {
   "cell_type": "code",
   "execution_count": 24,
   "metadata": {
    "scrolled": true
   },
   "outputs": [
    {
     "ename": "SyntaxError",
     "evalue": "invalid syntax (<ipython-input-24-143156b42dbe>, line 3)",
     "output_type": "error",
     "traceback": [
      "\u001b[0;36m  File \u001b[0;32m\"<ipython-input-24-143156b42dbe>\"\u001b[0;36m, line \u001b[0;32m3\u001b[0m\n\u001b[0;31m    sum_i =\u001b[0m\n\u001b[0m            ^\u001b[0m\n\u001b[0;31mSyntaxError\u001b[0m\u001b[0;31m:\u001b[0m invalid syntax\n"
     ]
    }
   ],
   "source": [
    "def sameBalls(n,M):\n",
    "    i = 0 \n",
    "    sum_i = \n",
    "    for i in range(n):\n",
    "        \n",
    "    return Possible\n",
    "\n",
    "q = int(input().strip())\n",
    "for a0 in range(q):\n",
    "    n = int(input().strip())\n",
    "    M = []\n",
    "    for M_i in range(n):\n",
    "        M_t = [int(M_temp) for M_temp in input().strip().split(' ')]\n",
    "        M.append(M_t)\n",
    "    print(M[1][0])"
   ]
  },
  {
   "cell_type": "code",
   "execution_count": 3,
   "metadata": {},
   "outputs": [
    {
     "data": {
      "text/plain": [
       "[1, 2, 3]"
      ]
     },
     "execution_count": 3,
     "metadata": {},
     "output_type": "execute_result"
    }
   ],
   "source": [
    "a = [1,2,3]\n",
    "list(a)"
   ]
  },
  {
   "cell_type": "code",
   "execution_count": 16,
   "metadata": {},
   "outputs": [
    {
     "ename": "TypeError",
     "evalue": "createNumber() missing 2 required positional arguments: 'digits' and 'k'",
     "output_type": "error",
     "traceback": [
      "\u001b[0;31m---------------------------------------------------------------------------\u001b[0m",
      "\u001b[0;31mTypeError\u001b[0m                                 Traceback (most recent call last)",
      "\u001b[0;32m<ipython-input-16-85ca0c9a2387>\u001b[0m in \u001b[0;36m<module>\u001b[0;34m()\u001b[0m\n\u001b[1;32m      3\u001b[0m \u001b[0mk\u001b[0m \u001b[0;34m=\u001b[0m \u001b[0;36m2\u001b[0m\u001b[0;34m\u001b[0m\u001b[0m\n\u001b[1;32m      4\u001b[0m \u001b[0md\u001b[0m \u001b[0;34m=\u001b[0m \u001b[0;36m3\u001b[0m\u001b[0;34m\u001b[0m\u001b[0m\n\u001b[0;32m----> 5\u001b[0;31m \u001b[0mprint\u001b[0m\u001b[0;34m(\u001b[0m\u001b[0mhack\u001b[0m\u001b[0;34m(\u001b[0m\u001b[0mdigits\u001b[0m\u001b[0;34m,\u001b[0m \u001b[0mk\u001b[0m\u001b[0;34m,\u001b[0m \u001b[0md\u001b[0m\u001b[0;34m)\u001b[0m\u001b[0;34m)\u001b[0m\u001b[0;34m\u001b[0m\u001b[0m\n\u001b[0m\u001b[1;32m      6\u001b[0m \u001b[0;34m\u001b[0m\u001b[0m\n\u001b[1;32m      7\u001b[0m \u001b[0;32mdef\u001b[0m \u001b[0mhack\u001b[0m\u001b[0;34m(\u001b[0m\u001b[0mdigits\u001b[0m\u001b[0;34m,\u001b[0m \u001b[0mk\u001b[0m\u001b[0;34m,\u001b[0m \u001b[0md\u001b[0m\u001b[0;34m)\u001b[0m\u001b[0;34m:\u001b[0m\u001b[0;34m\u001b[0m\u001b[0m\n",
      "\u001b[0;32m<ipython-input-4-8664aea61770>\u001b[0m in \u001b[0;36mhack\u001b[0;34m(digits, k, d)\u001b[0m\n\u001b[1;32m      2\u001b[0m     \u001b[0;32mdef\u001b[0m \u001b[0mcreateNumber\u001b[0m\u001b[0;34m(\u001b[0m\u001b[0mdigits\u001b[0m\u001b[0;34m,\u001b[0m\u001b[0mk\u001b[0m\u001b[0;34m)\u001b[0m\u001b[0;34m:\u001b[0m\u001b[0;34m\u001b[0m\u001b[0m\n\u001b[1;32m      3\u001b[0m         \u001b[0;32mreturn\u001b[0m \u001b[0;34m\"\"\u001b[0m\u001b[0;34m.\u001b[0m\u001b[0mjoin\u001b[0m\u001b[0;34m(\u001b[0m\u001b[0mj\u001b[0m \u001b[0;32mfor\u001b[0m \u001b[0mj\u001b[0m \u001b[0;32min\u001b[0m \u001b[0mdigits\u001b[0m\u001b[0;34m)\u001b[0m\u001b[0;34m\u001b[0m\u001b[0m\n\u001b[0;32m----> 4\u001b[0;31m     \u001b[0;32mreturn\u001b[0m \u001b[0mlist\u001b[0m\u001b[0;34m(\u001b[0m\u001b[0mi\u001b[0m \u001b[0;32mfor\u001b[0m \u001b[0mi\u001b[0m \u001b[0;32min\u001b[0m \u001b[0mcreateNumber\u001b[0m\u001b[0;34m(\u001b[0m\u001b[0;34m)\u001b[0m \u001b[0;32mif\u001b[0m \u001b[0mi\u001b[0m\u001b[0;34m%\u001b[0m\u001b[0md\u001b[0m \u001b[0;34m==\u001b[0m \u001b[0;36m0\u001b[0m\u001b[0;34m)\u001b[0m\u001b[0;34m\u001b[0m\u001b[0m\n\u001b[0m\u001b[1;32m      5\u001b[0m \u001b[0;34m\u001b[0m\u001b[0m\n\u001b[1;32m      6\u001b[0m \u001b[0mdigits\u001b[0m \u001b[0;34m=\u001b[0m \u001b[0;34m[\u001b[0m\u001b[0;36m1\u001b[0m\u001b[0;34m,\u001b[0m \u001b[0;36m5\u001b[0m\u001b[0;34m,\u001b[0m \u001b[0;36m2\u001b[0m\u001b[0;34m]\u001b[0m\u001b[0;34m\u001b[0m\u001b[0m\n",
      "\u001b[0;31mTypeError\u001b[0m: createNumber() missing 2 required positional arguments: 'digits' and 'k'"
     ]
    }
   ],
   "source": [
    "import itertools as it\n",
    "digits = [1, 5, 2]\n",
    "k = 2\n",
    "d = 3\n",
    "print(hack(digits, k, d))\n",
    "\n",
    "def hack(digits, k, d):\n",
    "    def createNumber(digits,k):\n",
    "        return it.product(digits, repeat = k)\n",
    "    return list(i for i in createNumber(digits,k) if int(i)%d == 0)\n"
   ]
  },
  {
   "cell_type": "code",
   "execution_count": 53,
   "metadata": {},
   "outputs": [
    {
     "name": "stdout",
     "output_type": "stream",
     "text": [
      "<map object at 0x1088eb780>\n"
     ]
    }
   ],
   "source": [
    "from itertools import product\n",
    "\n",
    "def hack(digits, k, d):\n",
    "    def createNumber(digits):\n",
    "        return \"\".join(map(str, digits))\n",
    "    return sorted(x for x in map(createNumber, product(digits, repeat=k)) if int(x)%d == 0)\n",
    "\n",
    "digits = [1,5,2]\n",
    "k = 2\n",
    "d = 3\n",
    "print(map(createNumber, product(digits, repeat=k)))"
   ]
  },
  {
   "cell_type": "code",
   "execution_count": 64,
   "metadata": {},
   "outputs": [
    {
     "name": "stdout",
     "output_type": "stream",
     "text": [
      "11\n",
      "15\n",
      "12\n",
      "51\n",
      "55\n",
      "52\n",
      "21\n",
      "25\n",
      "22\n"
     ]
    }
   ],
   "source": [
    "for x in map(createNumber, product(digits, repeat=k)):\n",
    "    print (\"\".join(x))"
   ]
  },
  {
   "cell_type": "code",
   "execution_count": 40,
   "metadata": {},
   "outputs": [
    {
     "data": {
      "text/plain": [
       "<itertools.product at 0x1089376c0>"
      ]
     },
     "execution_count": 40,
     "metadata": {},
     "output_type": "execute_result"
    }
   ],
   "source": [
    "product(createNumber(digits),repeat = k)"
   ]
  },
  {
   "cell_type": "code",
   "execution_count": 68,
   "metadata": {},
   "outputs": [
    {
     "name": "stdout",
     "output_type": "stream",
     "text": [
      "['12', '15', '21', '51']\n"
     ]
    }
   ],
   "source": [
    "from itertools import product\n",
    "\n",
    "def crackingPassword(digits, k, d):\n",
    "    def createNumber(digits):\n",
    "        return \"\".join(map(str, digits))\n",
    "    return list(sorted(x for x in map(createNumber, product(digits, repeat=k)) if int(x)%d == 0))\n",
    "\n",
    "digits = [1,5,2]\n",
    "k = 2\n",
    "d = 3\n",
    "print(crackingPassword(digits, k, d))"
   ]
  },
  {
   "cell_type": "code",
   "execution_count": 114,
   "metadata": {},
   "outputs": [
    {
     "ename": "SyntaxError",
     "evalue": "Generator expression must be parenthesized if not sole argument (<ipython-input-114-d16fa63b3dc1>, line 3)",
     "output_type": "error",
     "traceback": [
      "\u001b[0;36m  File \u001b[0;32m\"<ipython-input-114-d16fa63b3dc1>\"\u001b[0;36m, line \u001b[0;32m3\u001b[0m\n\u001b[0;31m    return list(dancers[1::-1],dancers[i],dancers[i-1] for i in range(1,len(dancers),2))\u001b[0m\n\u001b[0m               ^\u001b[0m\n\u001b[0;31mSyntaxError\u001b[0m\u001b[0;31m:\u001b[0m Generator expression must be parenthesized if not sole argument\n"
     ]
    }
   ],
   "source": [
    "dancers = [1, 2, 3, 4, 5, 6]\n",
    "def sakula(dancers):\n",
    "    return list(dancers[1::-1],dancers[i],dancers[i-1] for i in range(1,len(dancers),2))\n",
    "print(sakula(dancers))"
   ]
  },
  {
   "cell_type": "code",
   "execution_count": 177,
   "metadata": {},
   "outputs": [
    {
     "ename": "TypeError",
     "evalue": "'function' object is not iterable",
     "output_type": "error",
     "traceback": [
      "\u001b[0;31m---------------------------------------------------------------------------\u001b[0m",
      "\u001b[0;31mTypeError\u001b[0m                                 Traceback (most recent call last)",
      "\u001b[0;32m<ipython-input-177-ef1cd75ad23a>\u001b[0m in \u001b[0;36m<module>\u001b[0;34m()\u001b[0m\n\u001b[1;32m      2\u001b[0m \u001b[0;32mdef\u001b[0m \u001b[0msakula\u001b[0m\u001b[0;34m(\u001b[0m\u001b[0mdancers\u001b[0m\u001b[0;34m)\u001b[0m\u001b[0;34m:\u001b[0m\u001b[0;34m\u001b[0m\u001b[0m\n\u001b[1;32m      3\u001b[0m     \u001b[0;32mreturn\u001b[0m \u001b[0mreduce\u001b[0m\u001b[0;34m(\u001b[0m\u001b[0mmap\u001b[0m\u001b[0;34m(\u001b[0m\u001b[0mlist\u001b[0m\u001b[0;34m,\u001b[0m \u001b[0;32mlambda\u001b[0m \u001b[0mx\u001b[0m\u001b[0;34m,\u001b[0m \u001b[0my\u001b[0m\u001b[0;34m:\u001b[0m \u001b[0mx\u001b[0m \u001b[0;34m+\u001b[0m \u001b[0my\u001b[0m\u001b[0;34m,\u001b[0m \u001b[0mlist\u001b[0m\u001b[0;34m(\u001b[0m\u001b[0mzip\u001b[0m\u001b[0;34m(\u001b[0m\u001b[0mdancers\u001b[0m\u001b[0;34m[\u001b[0m\u001b[0;36m1\u001b[0m\u001b[0;34m:\u001b[0m\u001b[0;34m:\u001b[0m\u001b[0;36m2\u001b[0m\u001b[0;34m]\u001b[0m\u001b[0;34m,\u001b[0m \u001b[0mdancers\u001b[0m\u001b[0;34m[\u001b[0m\u001b[0;36m0\u001b[0m\u001b[0;34m:\u001b[0m\u001b[0;34m:\u001b[0m\u001b[0;36m2\u001b[0m\u001b[0;34m]\u001b[0m\u001b[0;34m)\u001b[0m\u001b[0;34m)\u001b[0m\u001b[0;34m)\u001b[0m\u001b[0;34m)\u001b[0m\u001b[0;34m\u001b[0m\u001b[0m\n\u001b[0;32m----> 4\u001b[0;31m \u001b[0mprint\u001b[0m \u001b[0;34m(\u001b[0m\u001b[0msakula\u001b[0m\u001b[0;34m(\u001b[0m\u001b[0mdancers\u001b[0m\u001b[0;34m)\u001b[0m\u001b[0;34m)\u001b[0m\u001b[0;34m\u001b[0m\u001b[0m\n\u001b[0m",
      "\u001b[0;32m<ipython-input-177-ef1cd75ad23a>\u001b[0m in \u001b[0;36msakula\u001b[0;34m(dancers)\u001b[0m\n\u001b[1;32m      1\u001b[0m \u001b[0mdancers\u001b[0m \u001b[0;34m=\u001b[0m \u001b[0;34m[\u001b[0m\u001b[0;36m1\u001b[0m\u001b[0;34m,\u001b[0m \u001b[0;36m2\u001b[0m\u001b[0;34m,\u001b[0m \u001b[0;36m3\u001b[0m\u001b[0;34m,\u001b[0m \u001b[0;36m4\u001b[0m\u001b[0;34m,\u001b[0m \u001b[0;36m5\u001b[0m\u001b[0;34m,\u001b[0m \u001b[0;36m6\u001b[0m\u001b[0;34m]\u001b[0m\u001b[0;34m\u001b[0m\u001b[0m\n\u001b[1;32m      2\u001b[0m \u001b[0;32mdef\u001b[0m \u001b[0msakula\u001b[0m\u001b[0;34m(\u001b[0m\u001b[0mdancers\u001b[0m\u001b[0;34m)\u001b[0m\u001b[0;34m:\u001b[0m\u001b[0;34m\u001b[0m\u001b[0m\n\u001b[0;32m----> 3\u001b[0;31m     \u001b[0;32mreturn\u001b[0m \u001b[0mreduce\u001b[0m\u001b[0;34m(\u001b[0m\u001b[0mmap\u001b[0m\u001b[0;34m(\u001b[0m\u001b[0mlist\u001b[0m\u001b[0;34m,\u001b[0m \u001b[0;32mlambda\u001b[0m \u001b[0mx\u001b[0m\u001b[0;34m,\u001b[0m \u001b[0my\u001b[0m\u001b[0;34m:\u001b[0m \u001b[0mx\u001b[0m \u001b[0;34m+\u001b[0m \u001b[0my\u001b[0m\u001b[0;34m,\u001b[0m \u001b[0mlist\u001b[0m\u001b[0;34m(\u001b[0m\u001b[0mzip\u001b[0m\u001b[0;34m(\u001b[0m\u001b[0mdancers\u001b[0m\u001b[0;34m[\u001b[0m\u001b[0;36m1\u001b[0m\u001b[0;34m:\u001b[0m\u001b[0;34m:\u001b[0m\u001b[0;36m2\u001b[0m\u001b[0;34m]\u001b[0m\u001b[0;34m,\u001b[0m \u001b[0mdancers\u001b[0m\u001b[0;34m[\u001b[0m\u001b[0;36m0\u001b[0m\u001b[0;34m:\u001b[0m\u001b[0;34m:\u001b[0m\u001b[0;36m2\u001b[0m\u001b[0;34m]\u001b[0m\u001b[0;34m)\u001b[0m\u001b[0;34m)\u001b[0m\u001b[0;34m)\u001b[0m\u001b[0;34m)\u001b[0m\u001b[0;34m\u001b[0m\u001b[0m\n\u001b[0m\u001b[1;32m      4\u001b[0m \u001b[0mprint\u001b[0m \u001b[0;34m(\u001b[0m\u001b[0msakula\u001b[0m\u001b[0;34m(\u001b[0m\u001b[0mdancers\u001b[0m\u001b[0;34m)\u001b[0m\u001b[0;34m)\u001b[0m\u001b[0;34m\u001b[0m\u001b[0m\n",
      "\u001b[0;31mTypeError\u001b[0m: 'function' object is not iterable"
     ]
    }
   ],
   "source": [
    "dancers = [1, 2, 3, 4, 5, 6]\n",
    "def sakula(dancers):\n",
    "    return reduce(lambda x, y: x + y, list(zip(dancers[1::2], dancers[0::2])))\n",
    "print (sakula(dancers))"
   ]
  },
  {
   "cell_type": "code",
   "execution_count": 195,
   "metadata": {
    "scrolled": true
   },
   "outputs": [
    {
     "name": "stdout",
     "output_type": "stream",
     "text": [
      "133\n"
     ]
    }
   ],
   "source": [
    "numbers = [3,1,4,4,2,5]\n",
    "from functools import reduce\n",
    "def clac(numbers):\n",
    "    return reduce(lambda x,y: x+y if numbers.index(y)%2 != 0 else x*y, numbers)\n",
    "print(clac(numbers))"
   ]
  },
  {
   "cell_type": "code",
   "execution_count": 176,
   "metadata": {},
   "outputs": [
    {
     "data": {
      "text/plain": [
       "[(2, 1), (4, 3), (6, 5)]"
      ]
     },
     "execution_count": 176,
     "metadata": {},
     "output_type": "execute_result"
    }
   ],
   "source": [
    "list(zip(dancers[1::2], dancers[0::2]))"
   ]
  },
  {
   "cell_type": "code",
   "execution_count": 4,
   "metadata": {
    "collapsed": true
   },
   "outputs": [],
   "source": [
    "def clac(numbers):\n",
    "    count = 1\n",
    "    return reduce(lambda x,y: x+y if count%2 != 0 else x*y, numbers)\n"
   ]
  },
  {
   "cell_type": "markdown",
   "metadata": {
    "collapsed": true
   },
   "source": [
    "import math\n",
    "c,r = 0,0\n",
    "answer = ''\n",
    "def col(s):\n",
    "    if math.sqrt(s)%1 == 0:\n",
    "        if s%2 == 0:\n",
    "            c = math.sqrt(s)\n",
    "            r = 1\n",
    "        else:\n",
    "            c = 1\n",
    "            r = math.sqrt(s)\n",
    "    elif math.floor(math.sqrt(s))%2 == 0:\n",
    "        if s-(math.floor(math.sqrt(s)))**2 <= math.floor(math.sqrt(s))+1:\n",
    "            c = math.floor(math.sqrt(s)) + 1\n",
    "            r = s-(math.floor(math.sqrt(s)))**2 - 1\n",
    "        else:\n",
    "            c = math.floor(math.sqrt(s))-(s-(math.floor(math.sqrt(s)))**2-math.floor(math.sqrt(s))-1-1)\n",
    "            r = math.floor(math.sqrt(s)) + 1\n",
    "    else:\n",
    "        if s-(math.floor(math.sqrt(s)))**2 <= math.floor(math.sqrt(s))+1:\n",
    "            r = math.floor(math.sqrt(s)) + 1\n",
    "            c = s-(math.floor(math.sqrt(s)))**2 \n",
    "        else:\n",
    "            r = math.floor(math.sqrt(s))-(s-(math.floor(math.sqrt(s)))**2-math.floor(math.sqrt(s))-1-1)\n",
    "            c = math.floor(math.sqrt(s)) + 1\n",
    "            \n",
    "    answer = str(int(c))+' '+str(int(r))\n",
    "    return answer\n",
    "\n",
    "\n",
    "t = int(input().strip())\n",
    "for i in range(t):\n",
    "    s = int(input().strip())\n",
    "    print('Case '+str(i+1)+':' + str(col(s)))"
   ]
  },
  {
   "cell_type": "code",
   "execution_count": 25,
   "metadata": {},
   "outputs": [
    {
     "name": "stdout",
     "output_type": "stream",
     "text": [
      "1\n",
      "14\n",
      "Case 1:4 3\n"
     ]
    }
   ],
   "source": [
    "import math\n",
    "c,r = 0,0\n",
    "answer = ''\n",
    "def point(s):\n",
    "    if math.sqrt(s)%1 == 0:\n",
    "        if s%2 == 0:\n",
    "            c = math.sqrt(s)\n",
    "            r = 1\n",
    "        else:\n",
    "            c = 1\n",
    "            r = math.sqrt(s)\n",
    "    elif math.floor(math.sqrt(s))%2 == 0:\n",
    "        if s-(math.floor(math.sqrt(s)))**2 <= math.floor(math.sqrt(s))+1:\n",
    "            c = math.floor(math.sqrt(s)) + 1\n",
    "            r = s-(math.floor(math.sqrt(s)))**2 \n",
    "        else:\n",
    "            c = math.floor(math.sqrt(s))-(s-(math.floor(math.sqrt(s)))**2-math.floor(math.sqrt(s))-1-1)\n",
    "            r = math.floor(math.sqrt(s)) + 1\n",
    "    else:\n",
    "        if s-(math.floor(math.sqrt(s)))**2 <= math.floor(math.sqrt(s))+1:\n",
    "            r = math.floor(math.sqrt(s)) + 1\n",
    "            c = s-(math.floor(math.sqrt(s)))**2 \n",
    "        else:\n",
    "            r = math.floor(math.sqrt(s))-(s-(math.floor(math.sqrt(s)))**2-math.floor(math.sqrt(s))-1-1)\n",
    "            c = math.floor(math.sqrt(s)) + 1\n",
    "            \n",
    "    answer = str(int(c))+' '+str(int(r))\n",
    "    return answer\n",
    "\n",
    "\n",
    "t = int(input().strip())\n",
    "for i in range(t):\n",
    "    s = int(input().strip())\n",
    "    print('Case '+str(i+1)+':' + str(point(s)))"
   ]
  },
  {
   "cell_type": "code",
   "execution_count": 35,
   "metadata": {},
   "outputs": [
    {
     "name": "stdout",
     "output_type": "stream",
     "text": [
      "1\n",
      "001.33.421\n"
     ]
    },
    {
     "ename": "TypeError",
     "evalue": "'>' not supported between instances of 'int' and 'str'",
     "output_type": "error",
     "traceback": [
      "\u001b[0;31m---------------------------------------------------------------------------\u001b[0m",
      "\u001b[0;31mTypeError\u001b[0m                                 Traceback (most recent call last)",
      "\u001b[0;32m<ipython-input-35-48838c4654dd>\u001b[0m in \u001b[0;36m<module>\u001b[0;34m()\u001b[0m\n\u001b[1;32m     14\u001b[0m \u001b[0;32mfor\u001b[0m \u001b[0mi\u001b[0m \u001b[0;32min\u001b[0m \u001b[0mrange\u001b[0m\u001b[0;34m(\u001b[0m\u001b[0mt\u001b[0m\u001b[0;34m)\u001b[0m\u001b[0;34m:\u001b[0m\u001b[0;34m\u001b[0m\u001b[0m\n\u001b[1;32m     15\u001b[0m     \u001b[0ms\u001b[0m \u001b[0;34m=\u001b[0m \u001b[0mstr\u001b[0m\u001b[0;34m(\u001b[0m\u001b[0minput\u001b[0m\u001b[0;34m(\u001b[0m\u001b[0;34m)\u001b[0m\u001b[0;34m.\u001b[0m\u001b[0mstrip\u001b[0m\u001b[0;34m(\u001b[0m\u001b[0;34m)\u001b[0m\u001b[0;34m)\u001b[0m\u001b[0;34m\u001b[0m\u001b[0m\n\u001b[0;32m---> 16\u001b[0;31m     \u001b[0mprint\u001b[0m\u001b[0;34m(\u001b[0m\u001b[0misIP\u001b[0m\u001b[0;34m(\u001b[0m\u001b[0ms\u001b[0m\u001b[0;34m)\u001b[0m\u001b[0;34m)\u001b[0m\u001b[0;34m\u001b[0m\u001b[0m\n\u001b[0m",
      "\u001b[0;32m<ipython-input-35-48838c4654dd>\u001b[0m in \u001b[0;36misIP\u001b[0;34m(s)\u001b[0m\n\u001b[1;32m      3\u001b[0m         \u001b[0ms\u001b[0m \u001b[0;34m=\u001b[0m \u001b[0ms\u001b[0m\u001b[0;34m.\u001b[0m\u001b[0msplit\u001b[0m\u001b[0;34m(\u001b[0m\u001b[0;34m'.'\u001b[0m\u001b[0;34m)\u001b[0m\u001b[0;34m\u001b[0m\u001b[0m\n\u001b[1;32m      4\u001b[0m         \u001b[0;32mfor\u001b[0m \u001b[0mi\u001b[0m \u001b[0;32min\u001b[0m \u001b[0ms\u001b[0m\u001b[0;34m:\u001b[0m\u001b[0;34m\u001b[0m\u001b[0m\n\u001b[0;32m----> 5\u001b[0;31m             \u001b[0;32mif\u001b[0m \u001b[0mlen\u001b[0m\u001b[0;34m(\u001b[0m\u001b[0mi\u001b[0m\u001b[0;34m)\u001b[0m \u001b[0;34m>\u001b[0m \u001b[0mi\u001b[0m\u001b[0;34m:\u001b[0m\u001b[0;34m\u001b[0m\u001b[0m\n\u001b[0m\u001b[1;32m      6\u001b[0m                 \u001b[0mprint\u001b[0m\u001b[0;34m(\u001b[0m\u001b[0mbullshit\u001b[0m\u001b[0;34m)\u001b[0m\u001b[0;34m\u001b[0m\u001b[0m\n\u001b[1;32m      7\u001b[0m \u001b[0;34m\u001b[0m\u001b[0m\n",
      "\u001b[0;31mTypeError\u001b[0m: '>' not supported between instances of 'int' and 'str'"
     ]
    }
   ],
   "source": [
    "def isIP(s):\n",
    "    if '.' in s:\n",
    "        s = s.split('.') \n",
    "        for i in s:\n",
    "            if len(i) > i:\n",
    "                print(bullshit)\n",
    "        \n",
    "    if ':' in s:\n",
    "        s = s.split(':')\n",
    "        \n",
    "        \n",
    "\n",
    "t = int(input().strip())\n",
    "for i in range(t):\n",
    "    s = str(input().strip())\n",
    "    print(isIP(s))\n"
   ]
  },
  {
   "cell_type": "code",
   "execution_count": 40,
   "metadata": {},
   "outputs": [
    {
     "name": "stdout",
     "output_type": "stream",
     "text": [
      "1\n",
      "1 2 3\n",
      "[<itertools.combinations object at 0x10721aae8>]\n"
     ]
    }
   ],
   "source": [
    "import itertools as it\n",
    "\n",
    "def combine(s):\n",
    "    arr = []\n",
    "    for j in range(len(s)):\n",
    "        arr.append(it.combinations(s,j))\n",
    "        return arr\n",
    "        \n",
    "t = int(input().strip())\n",
    "for i in range(t):\n",
    "    s = str(input().strip())\n",
    "    print(combine(s))"
   ]
  },
  {
   "cell_type": "code",
   "execution_count": null,
   "metadata": {
    "collapsed": true
   },
   "outputs": [],
   "source": []
  }
 ],
 "metadata": {
  "kernelspec": {
   "display_name": "Python 3",
   "language": "python",
   "name": "python3"
  }
 },
 "nbformat": 4,
 "nbformat_minor": 2
}
