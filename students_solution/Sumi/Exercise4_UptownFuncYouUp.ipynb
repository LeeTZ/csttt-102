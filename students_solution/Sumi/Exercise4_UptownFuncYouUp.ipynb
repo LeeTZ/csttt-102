{
 "cells": [
  {
   "cell_type": "markdown",
   "metadata": {},
   "source": [
    "## Exercise 4: Uptown Func You Up(100 points)\n",
    "\n",
    "### by Liahnov Techensky\n",
    "\n",
    "#### In the following problems, you will be working on filling in the missing statement in a program. \n",
    "\n",
    "The program should work exactly as described in the problem statement. So probably you will need to make up more *test cases* by yourself.\n",
    "\n",
    "Note that you are **NOT ALLOWED** to modify the program except the '....' part. You cannot delete or add new lines or code. If you cannot achieve that, implement the function with your thoughts in a new cell below. And you will receive half of the points for that problem if your program works correctly."
   ]
  },
  {
   "cell_type": "code",
   "execution_count": null,
   "metadata": {
    "collapsed": true
   },
   "outputs": [],
   "source": [
    "# put all imports here\n",
    "import itertools as it\n",
    "import math"
   ]
  },
  {
   "cell_type": "markdown",
   "metadata": {},
   "source": [
    "### 1.  Address Book\n",
    "\n",
    "You are given a list of friends. For your ith friend you know their full name students[i], which can consist of up to 5 words (where a word is a set of consecutive letters). It is guaranteed that the surname is always the last name of his/her full name.\n",
    "\n",
    "Your task is to implement a function in your address book, to sort your friends lexicographically by their surnames. If two friends happen to have the same surname, their order in the result should be the same as in the original list.\n",
    "\n",
    "** Example **\n",
    "\n",
    "For\n",
    "\n",
    "friends = [\"Tiezheng Li\", \"Zlatan Great Terisic\", \n",
    "            \"Magian Li\", \"Liahnov Techensky\"]\n",
    "the output should be\n",
    "\n",
    "sortFriends(friends) = [\"Tiezheng Li\", \"Magian Li\", \n",
    "                          \"Liahnov Techensky\", \"Zlantan Great Terisic\"]\n",
    "\n",
    "** Input/Output **\n",
    "\n",
    "[input] list of string friends\n",
    "\n",
    "Array of friends, where each friend is given by their full name consisting of at most 5 words. For each i friend[i] consists of English letters and whitespace (' ') characters.\n",
    "\n",
    "\n",
    "[output] list of string\n",
    "\n",
    "Array of friends sorted as described above."
   ]
  },
  {
   "cell_type": "code",
   "execution_count": null,
   "metadata": {
    "collapsed": true
   },
   "outputs": [],
   "source": [
    "def sortFriends(friends):\n",
    "    friends.sort(key= lambda x: x.split(' ')[-1])\n",
    "    return friends"
   ]
  },
  {
   "cell_type": "code",
   "execution_count": null,
   "metadata": {
    "collapsed": true
   },
   "outputs": [],
   "source": [
    "# write your solution here if you do not know how to fill in the \"....\""
   ]
  },
  {
   "cell_type": "markdown",
   "metadata": {},
   "source": [
    "### 2. Memory Leak\n",
    "\n",
    "Not long ago TTT noticed that he started to forget things, and hurried to the doctor. The doc told him that it was perfectly normal for his age as a 31 years old man, and wrote down a list of pills that TTT can take in order to improve his memory. He especially recommended one medicine as the most effective one.\n",
    "\n",
    "Unfortunately TTT forgot which medicine is the most effective, and he feels like he really needs to take them. TTT recalls that the name of the most effective medicine goes in the list somewhere after the very first name that has an even length. Your task is to help TTT: given the list of the pills, return a list of three names that go right after the very first medicine name of the even length.\n",
    "\n",
    "If there are less than three medicines to return, return empty strings instead of them.\n",
    "\n",
    "**Example**\n",
    "\n",
    "For pills = [\"Notforgetan\", \"Antimoron\", \"Rememberin\", \"Bestmedicen\", \"Superpillsus\"],\n",
    "\n",
    "the output should be\n",
    "\n",
    "memoryPills(pills) = [\"Bestmedicen\", \"Superpillsus\", \"\"].\n",
    "\n",
    "**Input/Output**\n",
    "\n",
    "[input] list of string *pills*\n",
    "\n",
    "Array of medicaments written in TTT's prescription. Each title in the list can consist of English letters, digits and whitespace characters. It is guaranteed that at least one title in the list has an even length.\n",
    "\n",
    "[output] list of string\n",
    "\n",
    "A list of 3 elements."
   ]
  },
  {
   "cell_type": "code",
   "execution_count": null,
   "metadata": {
    "collapsed": true
   },
   "outputs": [],
   "source": [
    "def memoryPills(pills):\n",
    "    gen = it.dropwhile(lambda x:len(x)%2 != 0, pills+[\"\"]+[\"\"])\n",
    "    next(gen)\n",
    "    return [next(gen) for _ in range(3)]"
   ]
  },
  {
   "cell_type": "code",
   "execution_count": null,
   "metadata": {
    "collapsed": true
   },
   "outputs": [],
   "source": [
    "# write your solution here if you do not know how to fill in the \"....\""
   ]
  },
  {
   "cell_type": "markdown",
   "metadata": {},
   "source": [
    "### 3. Range of Floats\n",
    "\n",
    "As you may know, the range function in Python works only for integer values, and additional libraries should be used if a programmer wants to use float values.\n",
    "\n",
    "Now without using third-party libraries, you have to make one from scratch. Given float numbers *start*, *stop* and *step*, your task is to return a list of values from *start* to *stop* (including *start* and not including *stop*), evenly spaced by the *step*.\n",
    "\n",
    "Values *start*, *stop* and *step* have at most 50 digits after the decimal point each.\n",
    "\n",
    "**Example**\n",
    "\n",
    "For start = -0.9, stop = 0.45 and step = 0.2,\n",
    "\n",
    "the output should be\n",
    "\n",
    "floatRange(start, stop, step) = [-0.9, -0.7, -0.5, -0.3, -0.1, 0.1, 0.3].\n",
    "\n",
    "**Input/Output**\n",
    "\n",
    "[input] float start\n",
    "\n",
    "[input] float stop\n",
    "\n",
    "[input] float step\n",
    "\n",
    "Guaranteed constraints:\n",
    "-1000 ≤ start ≤ stop ≤ 1000.\n",
    "0 < step ≤ 1000.\n",
    "\n",
    "[output] list of float\n",
    "\n",
    "A list of values in range [start, stop), spaced by the step."
   ]
  },
  {
   "cell_type": "code",
   "execution_count": 106,
   "metadata": {
    "collapsed": true
   },
   "outputs": [],
   "source": [
    "def floatRange(start, stop, step):\n",
    "    gen = it.takewhile(lambda x: x<stop, it.count(start,step))\n",
    "    return list(gen)"
   ]
  },
  {
   "cell_type": "code",
   "execution_count": null,
   "metadata": {
    "collapsed": true
   },
   "outputs": [],
   "source": [
    "# write your solution here if you do not know how to fill in the \"....\""
   ]
  },
  {
   "cell_type": "markdown",
   "metadata": {},
   "source": [
    "### 4. The Heart Hacker\n",
    "\n",
    "You've been trying to crack the password from your boyfriend's laptop (you believed that he has been seeing other green tea girls), but with no luck. However, you're finally up to something: you checked the keyboard and found that the password consists of a limited set of digits.\n",
    "\n",
    "You've seen your boyfriend typing the password quite a few times, and are now sure that it consists of *k* digits. You also know that he is very superstitious and believes in the power of number *d*, so the password is divisible by it.\n",
    "\n",
    "Given the digits that comprise the password, its length *k* and the number *d* by which it is divisible, return a sorted list of strings that you should try during hacking.\n",
    "\n",
    "**Example**\n",
    "\n",
    "For digits = [1, 5, 2], k = 2 and d = 3,\n",
    "\n",
    "the output should be\n",
    "\n",
    "hack(digits, k, d) = [\"12\", \"15\", \"21\", \"51\"].\n",
    "\n",
    "Here are all the numbers of length 2: 11, 15, 12, 51, 55, 52, 21, 25 and 22. Only four of them are divisible by 3, and they comprise the answer.\n",
    "\n",
    "**Input/Output**\n",
    "\n",
    "[input] list of integer digits\n",
    "\n",
    "Array of distinct digits.\n",
    "\n",
    "[input] integer k\n",
    "\n",
    "The number of digits in the password."
   ]
  },
  {
   "cell_type": "code",
   "execution_count": 1,
   "metadata": {
    "collapsed": true
   },
   "outputs": [],
   "source": [
    "def hack(digits, k, d):\n",
    "    def createNumber(digits,k):\n",
    "        return \"\".join(map(str, digits))\n",
    "    return list(sorted(x for x in map(createNumber, product(digits, repeat=k)) if int(x) % d == 0))"
   ]
  },
  {
   "cell_type": "code",
   "execution_count": null,
   "metadata": {
    "collapsed": true
   },
   "outputs": [],
   "source": [
    "# write your solution here if you do not know how to fill in the \"....\""
   ]
  },
  {
   "cell_type": "markdown",
   "metadata": {},
   "source": [
    "### 5. Sakula Dance\n",
    "\n",
    "For the opening ceremony of the upcoming sports event an even number of dancers were picked to perform the Sakula Dance. They formed a correct lineup, As a part of the performance, adjacent pairs of dancers (i.e. the first one together with the second one, the third one together with the fourth one, etc.) had to swap positions with each other.\n",
    "\n",
    "Given a list of dancers, return the list of dancers after the changes, i.e. after each adjacent pair of dancers is swapped.\n",
    "\n",
    "**Example**\n",
    "\n",
    "For dancers = [1, 2, 3, 4, 5, 6], \n",
    "\n",
    "the output should be\n",
    "\n",
    "sakula(dancers) = [2, 1, 4, 3, 6, 5].\n",
    "\n",
    "**Input/Output**\n",
    "\n",
    "[input] list of integer dancers\n",
    "\n",
    "A list of even length representing the dancers, where each dancer is given by the number written on their suit.\n",
    "\n",
    "[output] list of integer\n",
    "\n",
    "Array of dancers with each pair of adjacent elements swapped."
   ]
  },
  {
   "cell_type": "code",
   "execution_count": null,
   "metadata": {
    "collapsed": true
   },
   "outputs": [],
   "source": [
    "def sakula(dancers):\n",
    "    return reduce(lambda x, y: x + y, list(zip(dancers[1::2], dancers[0::2])))"
   ]
  },
  {
   "cell_type": "code",
   "execution_count": null,
   "metadata": {
    "collapsed": true
   },
   "outputs": [],
   "source": [
    "# write your solution here if you do not know how to fill in the \"....\"\n",
    "\n",
    "def sakula(dancers):\n",
    "    arr = dancers[:]\n",
    "    for i in range(len(dancers)):\n",
    "        if i%2 == 0:\n",
    "            arr[i] = dancers [i+1]\n",
    "        else:\n",
    "            arr[i] = dancers[i-1]\n",
    "    return arr"
   ]
  },
  {
   "cell_type": "markdown",
   "metadata": {},
   "source": [
    "### 6. Add and Multiply\n",
    "\n",
    "Little Haocheng is not too good with numbers and having trouble even multiplying and adding them. He needs some practice, and you are the one helpful fellow who can give him a list of numbers to practice on. Given a list of numbers, Haocheng should calculate the following value:\n",
    "\n",
    "(((...(a[0] + a[1]) x a[2] + a[3]) x a[4] + ...)\n",
    "\n",
    "Unfortunately you yourself are not too good with math as well, but you know how to code. Implement a function that, given a list of numbers, will return the result of the operation Haocheng has to perform.\n",
    "\n",
    "**Example**\n",
    "\n",
    "For numbers = [1, 2, 3, 4, 5, 6], the output should be\n",
    "\n",
    "calc(numbers) = 71.\n",
    "\n",
    "Here's how the answer is obtained: ((1 + 2) ｘ 3 + 4) x5 + 6 = 71.\n",
    "\n",
    "**Input/Output**\n",
    "\n",
    "[input] list of integer numbers\n",
    "\n",
    "[output] integer\n",
    "\n",
    "The answer Haocheng should get."
   ]
  },
  {
   "cell_type": "code",
   "execution_count": null,
   "metadata": {
    "collapsed": true
   },
   "outputs": [],
   "source": [
    "from functools import reduce\n",
    "def clac(numbers):\n",
    "    return reduce(lambda x,y: x+y if numbers.index(y)%2 != 0 else x*y, numbers)"
   ]
  },
  {
   "cell_type": "code",
   "execution_count": null,
   "metadata": {
    "collapsed": true
   },
   "outputs": [],
   "source": [
    "# write your solution here if you do not know how to fill in the \"....\""
   ]
  },
  {
   "cell_type": "markdown",
   "metadata": {},
   "source": [
    "## Problem Solving Exercise\n",
    "\n",
    "please hand in any 6 problems from Hackerrank's implementation category, page 5.\n",
    "At least 3 of them should be in \"Medium\" difficulty level.\n",
    "https://www.hackerrank.com/domains/algorithms/implementation/5\n"
   ]
  },
  {
   "cell_type": "code",
   "execution_count": null,
   "metadata": {
    "collapsed": true
   },
   "outputs": [],
   "source": [
    "# 1\n",
    "# https://www.hackerrank.com/challenges/taum-and-bday/problem\n",
    "\n",
    "import sys\n",
    "\n",
    "def minUnits(b,w,x,y,z):\n",
    "    if max(x,y,z) == y and x+z < y: \n",
    "        units = (b+w)*x+w*z \n",
    "    elif max(x,y,z) == x and y+z < x:\n",
    "        units = (b+w)*y+b*z\n",
    "    else:\n",
    "        units = b*x+w*y \n",
    "    return units\n",
    "\n",
    "t = int(input().strip())\n",
    "units = 0\n",
    "for a0 in range(t):\n",
    "    b,w = input().strip().split(' ')\n",
    "    b,w = [int(b),int(w)]\n",
    "    x,y,z = input().strip().split(' ')\n",
    "    x,y,z = [int(x),int(y),int(z)]\n",
    "    print(minUnits(b,w,x,y,z))"
   ]
  },
  {
   "cell_type": "code",
   "execution_count": null,
   "metadata": {
    "collapsed": true
   },
   "outputs": [],
   "source": [
    "# 2 \n",
    "# https://www.hackerrank.com/challenges/kaprekar-numbers/problem\n",
    "\n",
    "def isKaprekar(p,q):\n",
    "    res = \"\"\n",
    "    for i in range(p,q+1):\n",
    "        square = str(i**2)       \n",
    "        length = len(square)\n",
    "        if i == 1:\n",
    "            res += '1 '\n",
    "        elif i > 3:\n",
    "            left = length//2\n",
    "            if int(square[:left]) + int(square[left:]) == i:\n",
    "                res += str(i)+' '\n",
    "    if res == '':\n",
    "        res = 'INVALID RANGE'\n",
    "    return res\n",
    "\n",
    "p = int(input().strip())\n",
    "q = int(input().strip())\n",
    "print(isKaprekar(p,q))"
   ]
  },
  {
   "cell_type": "code",
   "execution_count": null,
   "metadata": {
    "collapsed": true
   },
   "outputs": [],
   "source": [
    "# 3\n",
    "# https://www.hackerrank.com/challenges/the-time-in-words/problem\n",
    "\n",
    "import sys\n",
    "dic = { 1 : 'one', 2 : 'two', 3 : 'three', 4 : 'four', 5 : 'five', \\\n",
    "          6 : 'six', 7 : 'seven', 8 : 'eight', 9 : 'nine', 10 : 'ten', \\\n",
    "          11 : 'eleven', 12 : 'twelve', 13 : 'thirteen', 14 : 'fourteen', \\\n",
    "          15 : 'quarter', 16 : 'sixteen', 17 : 'seventeen', 18 : 'eighteen', \\\n",
    "          19 : 'ninteen', 20 : 'twenty', 21 : 'twenty one', 22 : 'twenty two',  \n",
    "          23 : 'twenty three', 24 : 'twenty four', 25 : 'twenty five', 26 : 'twenty six', \n",
    "          27 : 'twenty seven', 28 : 'twenty eight', 29 : 'twenty nine', 30 : 'half'}\n",
    "\n",
    "def timeToWords(h,m):\n",
    "    if m == 0:    \n",
    "        return dic[h] + ' o\\' clock'\n",
    "    if 0 < m <= 30:\n",
    "        if m == 1:\n",
    "            return dic[m] + ' minute past ' + dic[h]\n",
    "        elif m == 15 or m == 30:\n",
    "            return dic[m] + ' past ' + dic[h]\n",
    "        else:\n",
    "            return dic[m] + ' minutes past ' + dic[h]\n",
    "    if 30 < m < 60:\n",
    "        if h == 12:\n",
    "            if m == 59:\n",
    "                return dic[60-m] + ' minute to ' + dic[1]\n",
    "            elif m == 45:\n",
    "                return dic[60-m] + ' to ' + dic[1]\n",
    "            else:\n",
    "                return dic[60-m] + ' minutes to ' + dic[1]\n",
    "        else:\n",
    "            if m == 59:\n",
    "                return dic[60-m] + ' minute to ' + dic[h+1]\n",
    "            elif m == 45:\n",
    "                return dic[60-m] + ' to ' + dic[h+1]\n",
    "            else:\n",
    "                return dic[60-m] + ' minutes to ' + dic[h+1]\n",
    "\n",
    "h = int(input().strip())\n",
    "m = int(input().strip())\n",
    "print(timeToWords(h,m))"
   ]
  },
  {
   "cell_type": "code",
   "execution_count": null,
   "metadata": {
    "collapsed": true
   },
   "outputs": [],
   "source": [
    "# 4\n",
    "# https://www.hackerrank.com/challenges/encryption/problem\n",
    "\n",
    "import sys\n",
    "import math\n",
    "\n",
    "def encryotion(s):\n",
    "    d = 0\n",
    "    code = \"\"\n",
    "    length = math.sqrt(len(s))\n",
    "    row = math.floor(length)\n",
    "    col = math.ceil(length)\n",
    "  \n",
    "    if row*col >= len(s):\n",
    "        if row*col - len(s) == 0:\n",
    "            for i in range(col):        \n",
    "                while d < row:\n",
    "                    code += s[i + d*col]\n",
    "                    d += 1\n",
    "                code += ' '\n",
    "                d = 0\n",
    "        else:\n",
    "            for i in range(int(len(s)%row)+1):        \n",
    "                while d < row:\n",
    "                    code += s[i + d*col]\n",
    "                    d += 1\n",
    "                code += ' '\n",
    "                d = 0\n",
    "            for i in range(int(len(s)%row)+1,col):\n",
    "                while d < row-1:\n",
    "                    code += s[i + d*col]\n",
    "                    d += 1\n",
    "                code += ' '\n",
    "                d = 0\n",
    "                \n",
    "    if row*col < len(s):\n",
    "        row += 1\n",
    "        for i in range(int(len(s)%row)):        \n",
    "            while d < row:\n",
    "                code += s[i + d*col]\n",
    "                d += 1\n",
    "            code += ' '\n",
    "            d = 0\n",
    "        for i in range(int(len(s)%row),col):\n",
    "            while d < row-1:\n",
    "                code += s[i + d*col]\n",
    "                d += 1\n",
    "            code += ' '\n",
    "            d = 0\n",
    "    return code\n",
    "\n",
    "s = input().strip()\n",
    "print(encryotion(s))"
   ]
  },
  {
   "cell_type": "code",
   "execution_count": null,
   "metadata": {
    "collapsed": true
   },
   "outputs": [],
   "source": [
    "# 5 \n",
    "# https://www.hackerrank.com/challenges/bigger-is-greater/problem\n",
    "def biggerLexic(w):\n",
    "\n",
    "    i = len(w) - 1\n",
    "    while i > 0 and w[i-1] >= w[i]:\n",
    "        i -= 1\n",
    "    if i <= 0:\n",
    "        return 'no answer'\n",
    "\n",
    "    j = len(w) - 1\n",
    "    while j >= i and w[j] <= w[i-1]:\n",
    "        j -= 1\n",
    "    \n",
    "    l = list(w)    \n",
    "    l[i-1], l[j] = l[j], l[i-1]    \n",
    "    l[i:] = l[len(w)-1 : i-1 : -1]\n",
    "    \n",
    "    ans = ''\n",
    "    for i in range(len(l)):\n",
    "        ans += l[i]\n",
    "    return ans\n",
    "t = int(input().strip())\n",
    "for a0 in range(t):\n",
    "    w = str(input().strip())\n",
    "    print(biggerLexic(w))"
   ]
  },
  {
   "cell_type": "code",
   "execution_count": null,
   "metadata": {
    "collapsed": true
   },
   "outputs": [],
   "source": [
    "# 6 \n",
    "# https://www.hackerrank.com/challenges/chocolate-feast/problem\n",
    "\n",
    "import sys\n",
    "\n",
    "def chocolate(n,c,m):\n",
    "    num = 0\n",
    "    wrap = n/c\n",
    "    if wrap < m:\n",
    "        num = wrap\n",
    "        return int(num)\n",
    "    else: \n",
    "        num = wrap\n",
    "        while wrap >= m:\n",
    "            d = wrap // m \n",
    "            num += d\n",
    "            wrap = wrap%m + d\n",
    "        \n",
    "        return int(num)\n",
    "\n",
    "t = int(input().strip())\n",
    "for a0 in range(t):\n",
    "    n,c,m = input().strip().split(' ')\n",
    "    n,c,m = [int(n),int(c),int(m)]\n",
    "    print(chocolate(n,c,m))"
   ]
  },
  {
   "cell_type": "code",
   "execution_count": null,
   "metadata": {
    "collapsed": true
   },
   "outputs": [],
   "source": [
    "# Feedback goes here, feel free to comment on anything."
   ]
  }
 ],
 "metadata": {
  "kernelspec": {
   "display_name": "Python 3",
   "language": "python",
   "name": "python3"
  },
  "language_info": {
   "codemirror_mode": {
    "name": "ipython",
    "version": 3
   },
   "file_extension": ".py",
   "mimetype": "text/x-python",
   "name": "python",
   "nbconvert_exporter": "python",
   "pygments_lexer": "ipython3",
   "version": "3.6.2"
  }
 },
 "nbformat": 4,
 "nbformat_minor": 2
}
