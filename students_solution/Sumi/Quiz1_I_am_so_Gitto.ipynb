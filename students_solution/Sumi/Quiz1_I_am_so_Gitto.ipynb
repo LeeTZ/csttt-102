{
 "cells": [
  {
   "cell_type": "markdown",
   "metadata": {},
   "source": [
    "## Quiz 1:  I am so gitto! (100 points / 20 min)\n",
    "\n",
    "### by Liahnov Techensky\n",
    "\n",
    "#### In the following problems, you will be working on choosing a right answer out of 4, writing short response or writing runnable git command. \n"
   ]
  },
  {
   "cell_type": "markdown",
   "metadata": {},
   "source": [
    "1: To set your github email address at the global-- level, what command would you type? (use < email > to replace your actual email)"
   ]
  },
  {
   "cell_type": "code",
   "execution_count": null,
   "metadata": {
    "collapsed": true
   },
   "outputs": [],
   "source": [
    "git config --global user.email\"<email>\""
   ]
  },
  {
   "cell_type": "markdown",
   "metadata": {},
   "source": [
    "2: To create a Git repository in a folder, what command do you run?"
   ]
  },
  {
   "cell_type": "code",
   "execution_count": null,
   "metadata": {
    "collapsed": true
   },
   "outputs": [],
   "source": [
    "git init"
   ]
  },
  {
   "cell_type": "markdown",
   "metadata": {},
   "source": [
    "3: Which command would you run to stage the changes in the js/app.js file?\n",
    "\n",
    "(a). git add js/app.js\n",
    "\n",
    "(b). git stage js/app.js\n",
    "\n",
    "(c). git commit js/app.js\n",
    "\n",
    "(d). git commit js/app.js --to-staging-area"
   ]
  },
  {
   "cell_type": "code",
   "execution_count": null,
   "metadata": {
    "collapsed": true
   },
   "outputs": [],
   "source": [
    "b"
   ]
  },
  {
   "cell_type": "markdown",
   "metadata": {},
   "source": [
    "4: Write the basic command used to create a commit from the staged changes (don't include any flags)."
   ]
  },
  {
   "cell_type": "code",
   "execution_count": null,
   "metadata": {
    "collapsed": true
   },
   "outputs": [],
   "source": [
    "git commit"
   ]
  },
  {
   "cell_type": "markdown",
   "metadata": {},
   "source": [
    "5: What is the name of the file used to tell Git to ignore certain files?"
   ]
  },
  {
   "cell_type": "code",
   "execution_count": null,
   "metadata": {
    "collapsed": true
   },
   "outputs": [],
   "source": [
    "gitignore"
   ]
  },
  {
   "cell_type": "markdown",
   "metadata": {},
   "source": [
    "6: Write the command that will display the diff of the README file, comparing the current version with the latest committed version."
   ]
  },
  {
   "cell_type": "code",
   "execution_count": null,
   "metadata": {
    "collapsed": true
   },
   "outputs": [],
   "source": []
  },
  {
   "cell_type": "markdown",
   "metadata": {},
   "source": [
    "7: What command do you run to view the commit history of your repository?"
   ]
  },
  {
   "cell_type": "code",
   "execution_count": null,
   "metadata": {
    "collapsed": true
   },
   "outputs": [],
   "source": [
    "git log"
   ]
  },
  {
   "cell_type": "markdown",
   "metadata": {},
   "source": [
    "8: To create a branch, you run git branch . How can you create a branch and switch to it in one command?\n",
    "\n",
    "(a). git branch --switch < branch-name >\n",
    "\n",
    "(b). git checkout -b < branch-name >\n",
    "\n",
    "(c). git branch --checkout < branch-name >\n",
    "\n",
    "(d). git checkout --create-branch < branch-name >"
   ]
  },
  {
   "cell_type": "code",
   "execution_count": null,
   "metadata": {
    "collapsed": true
   },
   "outputs": [],
   "source": [
    "d"
   ]
  },
  {
   "cell_type": "markdown",
   "metadata": {},
   "source": [
    "9: Write the command that would merge the awesome_feature branch with the master branch, assuming you are on the master branch."
   ]
  },
  {
   "cell_type": "code",
   "execution_count": null,
   "metadata": {
    "collapsed": true
   },
   "outputs": [],
   "source": [
    "git checkout awesome_feature branch and merge master branch"
   ]
  },
  {
   "cell_type": "markdown",
   "metadata": {},
   "source": [
    "10: Which command will add a remote branch to the repository?\n",
    "\n",
    "(a). git remote add < name > < url >\n",
    "\n",
    "(b). git branch --remote < name > < url >\n",
    "\n",
    "(c). git remote new < name > < url >\n",
    "\n",
    "(d). git branch < name > < url >"
   ]
  },
  {
   "cell_type": "code",
   "execution_count": null,
   "metadata": {
    "collapsed": true
   },
   "outputs": [],
   "source": [
    "a"
   ]
  },
  {
   "cell_type": "markdown",
   "metadata": {},
   "source": [
    "11: Assuming your repo has a remote called production, what command would send all local committed changes on the master branch to that remote?"
   ]
  },
  {
   "cell_type": "code",
   "execution_count": null,
   "metadata": {
    "collapsed": true
   },
   "outputs": [],
   "source": []
  },
  {
   "cell_type": "markdown",
   "metadata": {},
   "source": [
    "12: Write the command that would remove the latest stash from the stash list and apply it to the staging area."
   ]
  },
  {
   "cell_type": "code",
   "execution_count": null,
   "metadata": {
    "collapsed": true
   },
   "outputs": [],
   "source": []
  },
  {
   "cell_type": "markdown",
   "metadata": {},
   "source": [
    "13: What command would create the c alias for the commit command at the global level)?"
   ]
  },
  {
   "cell_type": "code",
   "execution_count": null,
   "metadata": {
    "collapsed": true
   },
   "outputs": [],
   "source": []
  },
  {
   "cell_type": "markdown",
   "metadata": {},
   "source": [
    "14: How can you clean all untracked and ignored files in your working tree?"
   ]
  },
  {
   "cell_type": "code",
   "execution_count": null,
   "metadata": {
    "collapsed": true
   },
   "outputs": [],
   "source": []
  },
  {
   "cell_type": "markdown",
   "metadata": {},
   "source": [
    "15: How can you see the list of all remotes configured for current repository with their URLs?"
   ]
  },
  {
   "cell_type": "code",
   "execution_count": null,
   "metadata": {
    "collapsed": true
   },
   "outputs": [],
   "source": []
  },
  {
   "cell_type": "markdown",
   "metadata": {},
   "source": [
    "16: When is it necessary to use git mv to move a file?"
   ]
  },
  {
   "cell_type": "code",
   "execution_count": null,
   "metadata": {
    "collapsed": true
   },
   "outputs": [],
   "source": []
  },
  {
   "cell_type": "markdown",
   "metadata": {},
   "source": [
    "17: What can cause you to enter a \"detached HEAD\" state?\n",
    "\n",
    "(a) Finishing a merge\n",
    "\n",
    "(b) Cloning a bare repository\n",
    "\n",
    "(c) git clean\n",
    "\n",
    "(d) Checking out a commit that doesn't have a branch pointing to it"
   ]
  },
  {
   "cell_type": "code",
   "execution_count": null,
   "metadata": {
    "collapsed": true
   },
   "outputs": [],
   "source": []
  },
  {
   "cell_type": "markdown",
   "metadata": {},
   "source": [
    "18: How can you restore a branch you just deleted?\n",
    "\n",
    "(a) Create a new branch on the same commit after looking up the commit hash in reflog\n",
    "\n",
    "(b) Create a new branch on the same commit after looking up the commit hash in `git log`\n",
    "\n",
    "(c) Run `git gc`\n",
    "\n",
    "(d) It can't be done\n"
   ]
  },
  {
   "cell_type": "code",
   "execution_count": null,
   "metadata": {
    "collapsed": true
   },
   "outputs": [],
   "source": [
    "a"
   ]
  },
  {
   "cell_type": "markdown",
   "metadata": {},
   "source": [
    "19: In less than 10 words, explain what are the differences between git pull and git fetch?"
   ]
  },
  {
   "cell_type": "code",
   "execution_count": null,
   "metadata": {
    "collapsed": true
   },
   "outputs": [],
   "source": []
  },
  {
   "cell_type": "markdown",
   "metadata": {},
   "source": [
    "20: How can conflict in git resolved? Write the command(s) you will run throughout this process."
   ]
  },
  {
   "cell_type": "code",
   "execution_count": null,
   "metadata": {
    "collapsed": true
   },
   "outputs": [],
   "source": []
  }
 ],
 "metadata": {
  "kernelspec": {
   "display_name": "Python 3",
   "language": "python",
   "name": "python3"
  },
  "language_info": {
   "codemirror_mode": {
    "name": "ipython",
    "version": 3
   },
   "file_extension": ".py",
   "mimetype": "text/x-python",
   "name": "python",
   "nbconvert_exporter": "python",
   "pygments_lexer": "ipython3",
   "version": "3.6.2"
  }
 },
 "nbformat": 4,
 "nbformat_minor": 2
}
